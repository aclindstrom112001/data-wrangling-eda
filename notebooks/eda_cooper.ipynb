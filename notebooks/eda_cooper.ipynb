{
 "cells": [
  {
   "cell_type": "code",
   "execution_count": 1,
   "id": "677a5f59-5265-4744-9e79-bc4c2ea9feef",
   "metadata": {},
   "outputs": [],
   "source": [
    "import seaborn as sns\n",
    "import pandas as pd\n",
    "import numpy as np\n",
    "import matplotlib.pyplot as plt"
   ]
  },
  {
   "cell_type": "markdown",
   "id": "2728a34b",
   "metadata": {},
   "source": [
    "<h2> I) Data Loading </h2>"
   ]
  },
  {
   "cell_type": "code",
   "execution_count": 2,
   "id": "eff2a897-1adb-41f6-9f56-cdf2dd7aaaaf",
   "metadata": {},
   "outputs": [
    {
     "data": {
      "application/vnd.microsoft.datawrangler.viewer.v0+json": {
       "columns": [
        {
         "name": "index",
         "rawType": "int64",
         "type": "integer"
        },
        {
         "name": "Survived",
         "rawType": "int64",
         "type": "integer"
        },
        {
         "name": "Class",
         "rawType": "int64",
         "type": "integer"
        },
        {
         "name": "Sex",
         "rawType": "object",
         "type": "string"
        },
        {
         "name": "Age",
         "rawType": "float64",
         "type": "float"
        },
        {
         "name": "Fare",
         "rawType": "float64",
         "type": "float"
        },
        {
         "name": "SiblingsSpouses",
         "rawType": "int64",
         "type": "integer"
        },
        {
         "name": "ParentsChildren",
         "rawType": "int64",
         "type": "integer"
        },
        {
         "name": "embarked",
         "rawType": "object",
         "type": "string"
        }
       ],
       "ref": "b52743b4-414d-450f-8f89-80e566409343",
       "rows": [
        [
         "0",
         "0",
         "3",
         "M",
         "22.0",
         "7.25",
         "1",
         "0",
         "S"
        ],
        [
         "1",
         "1",
         "1",
         "F",
         "38.0",
         "71.2833",
         "1",
         "0",
         "C"
        ],
        [
         "2",
         "1",
         "3",
         "F",
         "26.0",
         "7.925",
         "0",
         "0",
         "S"
        ],
        [
         "3",
         "1",
         "1",
         "F",
         "35.0",
         "53.1",
         "1",
         "0",
         "S"
        ],
        [
         "4",
         "0",
         "3",
         "M",
         "35.0",
         "8.05",
         "0",
         "0",
         "S"
        ],
        [
         "5",
         "0",
         "3",
         "M",
         "28.0",
         "8.4583",
         "0",
         "0",
         "Q"
        ],
        [
         "6",
         "0",
         "1",
         "M",
         "54.0",
         "51.8625",
         "0",
         "0",
         "S"
        ],
        [
         "7",
         "0",
         "3",
         "M",
         "2.0",
         "21.075",
         "3",
         "1",
         "S"
        ],
        [
         "8",
         "1",
         "3",
         "F",
         "27.0",
         "11.1333",
         "0",
         "2",
         "S"
        ],
        [
         "9",
         "1",
         "2",
         "F",
         "14.0",
         "30.0708",
         "1",
         "0",
         "C"
        ],
        [
         "10",
         "1",
         "3",
         "F",
         "4.0",
         "16.7",
         "1",
         "1",
         "S"
        ],
        [
         "11",
         "1",
         "1",
         "F",
         "58.0",
         "26.55",
         "0",
         "0",
         "S"
        ],
        [
         "12",
         "0",
         "3",
         "M",
         "20.0",
         "8.05",
         "0",
         "0",
         "S"
        ],
        [
         "13",
         "0",
         "3",
         "M",
         "39.0",
         "31.275",
         "1",
         "5",
         "S"
        ],
        [
         "14",
         "0",
         "3",
         "F",
         "14.0",
         "7.8542",
         "0",
         "0",
         "S"
        ],
        [
         "15",
         "1",
         "2",
         "F",
         "55.0",
         "16.0",
         "0",
         "0",
         "S"
        ],
        [
         "16",
         "0",
         "3",
         "M",
         "2.0",
         "29.125",
         "4",
         "1",
         "Q"
        ],
        [
         "17",
         "1",
         "2",
         "M",
         "28.0",
         "13.0",
         "0",
         "0",
         "S"
        ],
        [
         "18",
         "0",
         "3",
         "F",
         "31.0",
         "18.0",
         "1",
         "0",
         "S"
        ],
        [
         "19",
         "1",
         "3",
         "F",
         "28.0",
         "7.225",
         "0",
         "0",
         "C"
        ],
        [
         "20",
         "0",
         "2",
         "M",
         "35.0",
         "26.0",
         "0",
         "0",
         "S"
        ],
        [
         "21",
         "1",
         "2",
         "M",
         "34.0",
         "13.0",
         "0",
         "0",
         "S"
        ],
        [
         "22",
         "1",
         "3",
         "F",
         "15.0",
         "8.0292",
         "0",
         "0",
         "Q"
        ],
        [
         "23",
         "1",
         "1",
         "M",
         "28.0",
         "35.5",
         "0",
         "0",
         "S"
        ],
        [
         "24",
         "0",
         "3",
         "F",
         "8.0",
         "21.075",
         "3",
         "1",
         "S"
        ],
        [
         "25",
         "1",
         "3",
         "F",
         "38.0",
         "31.3875",
         "1",
         "5",
         "S"
        ],
        [
         "26",
         "0",
         "3",
         "M",
         "28.0",
         "7.225",
         "0",
         "0",
         "C"
        ],
        [
         "27",
         "0",
         "1",
         "M",
         "19.0",
         "263.0",
         "3",
         "2",
         "S"
        ],
        [
         "28",
         "1",
         "3",
         "F",
         "28.0",
         "7.8792",
         "0",
         "0",
         "Q"
        ],
        [
         "29",
         "0",
         "3",
         "M",
         "28.0",
         "7.8958",
         "0",
         "0",
         "S"
        ],
        [
         "30",
         "0",
         "1",
         "M",
         "40.0",
         "27.7208",
         "0",
         "0",
         "C"
        ],
        [
         "31",
         "1",
         "1",
         "F",
         "28.0",
         "146.5208",
         "1",
         "0",
         "C"
        ],
        [
         "32",
         "1",
         "3",
         "F",
         "28.0",
         "7.75",
         "0",
         "0",
         "Q"
        ],
        [
         "33",
         "0",
         "2",
         "M",
         "66.0",
         "10.5",
         "0",
         "0",
         "S"
        ],
        [
         "34",
         "0",
         "1",
         "M",
         "28.0",
         "82.1708",
         "1",
         "0",
         "C"
        ],
        [
         "35",
         "0",
         "1",
         "M",
         "42.0",
         "52.0",
         "1",
         "0",
         "S"
        ],
        [
         "36",
         "1",
         "3",
         "M",
         "28.0",
         "7.2292",
         "0",
         "0",
         "C"
        ],
        [
         "37",
         "0",
         "3",
         "M",
         "21.0",
         "8.05",
         "0",
         "0",
         "S"
        ],
        [
         "38",
         "0",
         "3",
         "F",
         "18.0",
         "18.0",
         "2",
         "0",
         "S"
        ],
        [
         "39",
         "1",
         "3",
         "F",
         "14.0",
         "11.2417",
         "1",
         "0",
         "C"
        ],
        [
         "40",
         "0",
         "3",
         "F",
         "40.0",
         "9.475",
         "1",
         "0",
         "S"
        ],
        [
         "41",
         "0",
         "2",
         "F",
         "27.0",
         "21.0",
         "1",
         "0",
         "S"
        ],
        [
         "42",
         "0",
         "3",
         "M",
         "28.0",
         "7.8958",
         "0",
         "0",
         "C"
        ],
        [
         "43",
         "1",
         "2",
         "F",
         "3.0",
         "41.5792",
         "1",
         "2",
         "C"
        ],
        [
         "44",
         "1",
         "3",
         "F",
         "19.0",
         "7.8792",
         "0",
         "0",
         "Q"
        ],
        [
         "45",
         "0",
         "3",
         "M",
         "28.0",
         "8.05",
         "0",
         "0",
         "S"
        ],
        [
         "46",
         "0",
         "3",
         "M",
         "28.0",
         "15.5",
         "1",
         "0",
         "Q"
        ],
        [
         "47",
         "1",
         "3",
         "F",
         "28.0",
         "7.75",
         "0",
         "0",
         "Q"
        ],
        [
         "48",
         "0",
         "3",
         "M",
         "28.0",
         "21.6792",
         "2",
         "0",
         "C"
        ],
        [
         "49",
         "0",
         "3",
         "F",
         "18.0",
         "17.8",
         "1",
         "0",
         "S"
        ]
       ],
       "shape": {
        "columns": 8,
        "rows": 891
       }
      },
      "text/html": [
       "<div>\n",
       "<style scoped>\n",
       "    .dataframe tbody tr th:only-of-type {\n",
       "        vertical-align: middle;\n",
       "    }\n",
       "\n",
       "    .dataframe tbody tr th {\n",
       "        vertical-align: top;\n",
       "    }\n",
       "\n",
       "    .dataframe thead th {\n",
       "        text-align: right;\n",
       "    }\n",
       "</style>\n",
       "<table border=\"1\" class=\"dataframe\">\n",
       "  <thead>\n",
       "    <tr style=\"text-align: right;\">\n",
       "      <th></th>\n",
       "      <th>Survived</th>\n",
       "      <th>Class</th>\n",
       "      <th>Sex</th>\n",
       "      <th>Age</th>\n",
       "      <th>Fare</th>\n",
       "      <th>SiblingsSpouses</th>\n",
       "      <th>ParentsChildren</th>\n",
       "      <th>embarked</th>\n",
       "    </tr>\n",
       "  </thead>\n",
       "  <tbody>\n",
       "    <tr>\n",
       "      <th>0</th>\n",
       "      <td>0</td>\n",
       "      <td>3</td>\n",
       "      <td>M</td>\n",
       "      <td>22.0</td>\n",
       "      <td>7.2500</td>\n",
       "      <td>1</td>\n",
       "      <td>0</td>\n",
       "      <td>S</td>\n",
       "    </tr>\n",
       "    <tr>\n",
       "      <th>1</th>\n",
       "      <td>1</td>\n",
       "      <td>1</td>\n",
       "      <td>F</td>\n",
       "      <td>38.0</td>\n",
       "      <td>71.2833</td>\n",
       "      <td>1</td>\n",
       "      <td>0</td>\n",
       "      <td>C</td>\n",
       "    </tr>\n",
       "    <tr>\n",
       "      <th>2</th>\n",
       "      <td>1</td>\n",
       "      <td>3</td>\n",
       "      <td>F</td>\n",
       "      <td>26.0</td>\n",
       "      <td>7.9250</td>\n",
       "      <td>0</td>\n",
       "      <td>0</td>\n",
       "      <td>S</td>\n",
       "    </tr>\n",
       "    <tr>\n",
       "      <th>3</th>\n",
       "      <td>1</td>\n",
       "      <td>1</td>\n",
       "      <td>F</td>\n",
       "      <td>35.0</td>\n",
       "      <td>53.1000</td>\n",
       "      <td>1</td>\n",
       "      <td>0</td>\n",
       "      <td>S</td>\n",
       "    </tr>\n",
       "    <tr>\n",
       "      <th>4</th>\n",
       "      <td>0</td>\n",
       "      <td>3</td>\n",
       "      <td>M</td>\n",
       "      <td>35.0</td>\n",
       "      <td>8.0500</td>\n",
       "      <td>0</td>\n",
       "      <td>0</td>\n",
       "      <td>S</td>\n",
       "    </tr>\n",
       "    <tr>\n",
       "      <th>...</th>\n",
       "      <td>...</td>\n",
       "      <td>...</td>\n",
       "      <td>...</td>\n",
       "      <td>...</td>\n",
       "      <td>...</td>\n",
       "      <td>...</td>\n",
       "      <td>...</td>\n",
       "      <td>...</td>\n",
       "    </tr>\n",
       "    <tr>\n",
       "      <th>886</th>\n",
       "      <td>0</td>\n",
       "      <td>2</td>\n",
       "      <td>M</td>\n",
       "      <td>27.0</td>\n",
       "      <td>13.0000</td>\n",
       "      <td>0</td>\n",
       "      <td>0</td>\n",
       "      <td>S</td>\n",
       "    </tr>\n",
       "    <tr>\n",
       "      <th>887</th>\n",
       "      <td>1</td>\n",
       "      <td>1</td>\n",
       "      <td>F</td>\n",
       "      <td>19.0</td>\n",
       "      <td>30.0000</td>\n",
       "      <td>0</td>\n",
       "      <td>0</td>\n",
       "      <td>S</td>\n",
       "    </tr>\n",
       "    <tr>\n",
       "      <th>888</th>\n",
       "      <td>0</td>\n",
       "      <td>3</td>\n",
       "      <td>F</td>\n",
       "      <td>28.0</td>\n",
       "      <td>23.4500</td>\n",
       "      <td>1</td>\n",
       "      <td>2</td>\n",
       "      <td>S</td>\n",
       "    </tr>\n",
       "    <tr>\n",
       "      <th>889</th>\n",
       "      <td>1</td>\n",
       "      <td>1</td>\n",
       "      <td>M</td>\n",
       "      <td>26.0</td>\n",
       "      <td>30.0000</td>\n",
       "      <td>0</td>\n",
       "      <td>0</td>\n",
       "      <td>C</td>\n",
       "    </tr>\n",
       "    <tr>\n",
       "      <th>890</th>\n",
       "      <td>0</td>\n",
       "      <td>3</td>\n",
       "      <td>M</td>\n",
       "      <td>32.0</td>\n",
       "      <td>7.7500</td>\n",
       "      <td>0</td>\n",
       "      <td>0</td>\n",
       "      <td>Q</td>\n",
       "    </tr>\n",
       "  </tbody>\n",
       "</table>\n",
       "<p>891 rows × 8 columns</p>\n",
       "</div>"
      ],
      "text/plain": [
       "     Survived  Class Sex   Age     Fare  SiblingsSpouses  ParentsChildren  \\\n",
       "0           0      3   M  22.0   7.2500                1                0   \n",
       "1           1      1   F  38.0  71.2833                1                0   \n",
       "2           1      3   F  26.0   7.9250                0                0   \n",
       "3           1      1   F  35.0  53.1000                1                0   \n",
       "4           0      3   M  35.0   8.0500                0                0   \n",
       "..        ...    ...  ..   ...      ...              ...              ...   \n",
       "886         0      2   M  27.0  13.0000                0                0   \n",
       "887         1      1   F  19.0  30.0000                0                0   \n",
       "888         0      3   F  28.0  23.4500                1                2   \n",
       "889         1      1   M  26.0  30.0000                0                0   \n",
       "890         0      3   M  32.0   7.7500                0                0   \n",
       "\n",
       "    embarked  \n",
       "0          S  \n",
       "1          C  \n",
       "2          S  \n",
       "3          S  \n",
       "4          S  \n",
       "..       ...  \n",
       "886        S  \n",
       "887        S  \n",
       "888        S  \n",
       "889        C  \n",
       "890        Q  \n",
       "\n",
       "[891 rows x 8 columns]"
      ]
     },
     "execution_count": 2,
     "metadata": {},
     "output_type": "execute_result"
    }
   ],
   "source": [
    "# Load dataset\n",
    "titanic_df = pd.read_csv(\"../data/clean_titanic.csv\")\n",
    "titanic_df"
   ]
  },
  {
   "cell_type": "code",
   "execution_count": 3,
   "id": "9ff8c8bd",
   "metadata": {},
   "outputs": [
    {
     "data": {
      "text/plain": [
       "Index(['Survived', 'Class', 'Sex', 'Age', 'Fare', 'SiblingsSpouses',\n",
       "       'ParentsChildren', 'embarked'],\n",
       "      dtype='object')"
      ]
     },
     "execution_count": 3,
     "metadata": {},
     "output_type": "execute_result"
    }
   ],
   "source": [
    "titanic_df.columns"
   ]
  },
  {
   "cell_type": "markdown",
   "id": "bc5cf1f3",
   "metadata": {},
   "source": [
    "<h2>II) Accident Overview </h2>"
   ]
  },
  {
   "cell_type": "markdown",
   "id": "137c4a66",
   "metadata": {},
   "source": [
    "<h3>a) Survival Rate "
   ]
  },
  {
   "cell_type": "code",
   "execution_count": 4,
   "id": "7444bf0c",
   "metadata": {},
   "outputs": [
    {
     "name": "stdout",
     "output_type": "stream",
     "text": [
      "Number of survivals: 342.00\n",
      "Chance of survive: 0.38\n"
     ]
    }
   ],
   "source": [
    "survived_count = float(titanic_df['Survived'].sum())       #Count the number of survivals\n",
    "survival_rate = survived_count / len(titanic_df['Survived'])  #Death ratio: number of survivals / total number of passengers\n",
    "\n",
    "\n",
    "print(f\"Number of survivals: {survived_count:.2f}\")\n",
    "print(f\"Chance of survive: {survival_rate:.2f}\")"
   ]
  },
  {
   "cell_type": "code",
   "execution_count": 10,
   "id": "37c83368",
   "metadata": {},
   "outputs": [
    {
     "data": {
      "application/vnd.microsoft.datawrangler.viewer.v0+json": {
       "columns": [
        {
         "name": "('Survived', 'Sex')",
         "rawType": "object",
         "type": "unknown"
        },
        {
         "name": "count",
         "rawType": "int64",
         "type": "integer"
        }
       ],
       "ref": "c9353c99-83b9-4f16-b078-de55140d2e35",
       "rows": [
        [
         "(np.int64(0), 'M')",
         "468"
        ],
        [
         "(np.int64(1), 'F')",
         "233"
        ],
        [
         "(np.int64(1), 'M')",
         "109"
        ],
        [
         "(np.int64(0), 'F')",
         "81"
        ]
       ],
       "shape": {
        "columns": 1,
        "rows": 4
       }
      },
      "text/plain": [
       "Survived  Sex\n",
       "0         M      468\n",
       "1         F      233\n",
       "          M      109\n",
       "0         F       81\n",
       "Name: count, dtype: int64"
      ]
     },
     "execution_count": 10,
     "metadata": {},
     "output_type": "execute_result"
    }
   ],
   "source": [
    "survived_df = titanic_df[['Survived', 'Sex']]\n",
    "survived_df\n",
    "\n",
    "survival_rate_gender = survived_df.value_counts()\n",
    "\n",
    "survival_rate_gender"
   ]
  },
  {
   "cell_type": "code",
   "execution_count": 13,
   "id": "34cf2f46",
   "metadata": {},
   "outputs": [
    {
     "name": "stdout",
     "output_type": "stream",
     "text": [
      "Men Dead: 468\n",
      "Men Survived: 109\n",
      "Woman Dead: 81\n",
      "Women Survived: 233\n"
     ]
    }
   ],
   "source": [
    "men_dead = int(survival_rate_gender.iloc[0])\n",
    "women_alive = int(survival_rate_gender.iloc[1])\n",
    "men_alive = int(survival_rate_gender.iloc[2])\n",
    "women_dead = int(survival_rate_gender.iloc[3])\n",
    "\n",
    "print(f\"Men Dead: {men_dead:.0f}\")\n",
    "print(f\"Men Survived: {men_alive:.0f}\")\n",
    "print(f\"Woman Dead: {women_dead:.0f}\")\n",
    "print(f\"Women Survived: {women_alive:.0f}\")"
   ]
  },
  {
   "cell_type": "code",
   "execution_count": 14,
   "id": "1b3eb25a",
   "metadata": {},
   "outputs": [
    {
     "name": "stdout",
     "output_type": "stream",
     "text": [
      "Women death ratio: 0.26\n",
      "Men death ratio: 0.81\n"
     ]
    }
   ],
   "source": [
    "women_death_ratio = women_dead / (women_dead + women_alive)\n",
    "men_death_ration = men_dead / (men_dead + men_alive)\n",
    "\n",
    "print(f\"Women death ratio: {women_death_ratio:.2f}\")\n",
    "print(f\"Men death ratio: {men_death_ration:.2f}\")"
   ]
  },
  {
   "cell_type": "markdown",
   "id": "8fa35103",
   "metadata": {},
   "source": [
    "<h3>b) Ticket class distribution"
   ]
  },
  {
   "cell_type": "code",
   "execution_count": null,
   "id": "53969527",
   "metadata": {},
   "outputs": [],
   "source": [
    "class_ticket = titanic_df[[\"Class\"]]\n",
    "\n",
    "class_ticket_1 = len(class_ticket[class_ticket[\"Class\"] == 1])\n",
    "class_ticket_2 = len(class_ticket[class_ticket[\"Class\"] == 2])\n",
    "class_ticket_3 = len(class_ticket[class_ticket[\"Class\"] == 3])\n",
    "\n",
    "class_ticket_counts = pd.DataFrame(                  #Create a dataset with the number of ticket class 1, class 2 and class 3\n",
    "    {'Class 1': [class_ticket_1],\n",
    "     'Class 2': [class_ticket_2],\n",
    "     'Class 3': [class_ticket_3],\n",
    "     })\n",
    "\n",
    "\n",
    "\n",
    "class_ticket_counts\n"
   ]
  },
  {
   "cell_type": "markdown",
   "id": "7677411d",
   "metadata": {},
   "source": [
    "<h3>c) Gender and family distribution"
   ]
  },
  {
   "cell_type": "code",
   "execution_count": null,
   "id": "498942fa",
   "metadata": {},
   "outputs": [],
   "source": [
    "#Number of women number of men\n",
    "\n",
    "gender_df = titanic_df[['Sex']]\n",
    "gender_counts = gender_df.value_counts()\n",
    "\n",
    "\n",
    "\n",
    "#Number of children\n",
    "\n",
    "children_df = titanic_df[['ParentsChildren']].sum()\n"
   ]
  },
  {
   "cell_type": "code",
   "execution_count": null,
   "id": "8bde81d1",
   "metadata": {},
   "outputs": [],
   "source": [
    "print(\"Gender Distribution\")\n",
    "gender_counts"
   ]
  },
  {
   "cell_type": "code",
   "execution_count": null,
   "id": "6b1edca3",
   "metadata": {},
   "outputs": [],
   "source": [
    "print(\"Number of Parents and Children\")\n",
    "children_df"
   ]
  },
  {
   "cell_type": "markdown",
   "id": "a7dd6ffd",
   "metadata": {},
   "source": [
    "<h3>d) Age distribution "
   ]
  },
  {
   "cell_type": "code",
   "execution_count": null,
   "id": "6e4d2d96",
   "metadata": {},
   "outputs": [],
   "source": [
    "age_df = titanic_df[[\"Age\"]]\n",
    "age_info = age_df.describe()  #Compute mean, std, quartiles and other standar statistic metrics\n",
    "age_info  \n"
   ]
  },
  {
   "cell_type": "code",
   "execution_count": null,
   "id": "477bc779",
   "metadata": {},
   "outputs": [],
   "source": [
    "plt.figure(figsize=(8,5))\n",
    "sns.histplot(age_df, bins=30, kde=True) \n",
    "plt.title(\"Age Distribution\")\n",
    "plt.xlabel(\"Age\")\n",
    "plt.ylabel(\"Frequency\")\n",
    "plt.show()"
   ]
  },
  {
   "cell_type": "markdown",
   "id": "9eb3b7c6",
   "metadata": {},
   "source": [
    "<h3>e) Ticket Price in £"
   ]
  },
  {
   "cell_type": "code",
   "execution_count": null,
   "id": "cc1a91df",
   "metadata": {},
   "outputs": [],
   "source": [
    "ticket_price_df = titanic_df[['Fare']]\n",
    "ticket_price_df.describe()"
   ]
  },
  {
   "cell_type": "code",
   "execution_count": null,
   "id": "c220155a",
   "metadata": {},
   "outputs": [],
   "source": [
    "plt.figure(figsize=(8,5))\n",
    "sns.histplot(ticket_price_df, bins=50, kde=True) \n",
    "plt.title(\"Ticket Price distribution\")\n",
    "plt.xlabel(\"Price in £\")\n",
    "plt.ylabel(\"Frequency\")\n",
    "plt.show()"
   ]
  },
  {
   "cell_type": "markdown",
   "id": "7e19a896",
   "metadata": {},
   "source": [
    "We want to take into account inflation to estimate what would be the price of Titanic tickets today"
   ]
  },
  {
   "cell_type": "code",
   "execution_count": null,
   "id": "885204a7",
   "metadata": {},
   "outputs": [],
   "source": [
    "#Inflation adjustement, retail price index (rpi) have been estimated with Chatgpt\n",
    "\n",
    "rpi_2025 = 330 \n",
    "rpi_2012 = 10.1\n",
    "\n",
    "list_adjusted_price = []\n",
    "\n",
    "for i in range(0, len(ticket_price_df)):\n",
    "    old_price = ticket_price_df.loc[i, 'Fare']\n",
    "    new_price = old_price * (rpi_2025 / rpi_2012)\n",
    "    list_adjusted_price.append(new_price)\n",
    "    \n",
    "ticket_price_df['Adjusted Price'] = list_adjusted_price\n",
    "ticket_price_df"
   ]
  },
  {
   "cell_type": "code",
   "execution_count": null,
   "id": "638a1681",
   "metadata": {},
   "outputs": [],
   "source": [
    "ticket_price_df[['Adjusted Price']].describe()"
   ]
  },
  {
   "cell_type": "code",
   "execution_count": null,
   "id": "0cd91644",
   "metadata": {},
   "outputs": [],
   "source": [
    "plt.figure(figsize=(8,5))\n",
    "sns.histplot(ticket_price_df[['Adjusted Price']], bins=50, kde=True) \n",
    "plt.title(\"Ticket Price distribution inflation adjusted\")\n",
    "plt.xlabel(\"Price in £\")\n",
    "plt.ylabel(\"Frequency\")\n",
    "plt.show()"
   ]
  },
  {
   "cell_type": "markdown",
   "id": "853365f4",
   "metadata": {},
   "source": [
    "<h2>III) Correlation metrics </h2>"
   ]
  },
  {
   "cell_type": "markdown",
   "id": "11e6ebca",
   "metadata": {},
   "source": [
    "<h3>a) Correlation Matrix"
   ]
  },
  {
   "cell_type": "code",
   "execution_count": null,
   "id": "b6f397e8",
   "metadata": {},
   "outputs": [],
   "source": [
    "titanic_df_num = titanic_df\n",
    "titanic_df_num"
   ]
  },
  {
   "cell_type": "code",
   "execution_count": null,
   "id": "bab1a72d",
   "metadata": {},
   "outputs": [],
   "source": [
    "#Correlation matrix\n",
    "\n",
    "titanic_df_num['Sex'] = titanic_df_num['Sex'].replace({'M' : 0, 'F' : 1})\n",
    "titanic_df_num['embarked'] = titanic_df_num['embarked'].replace({'S' : 0, 'Q' : 1, 'Q' : 2, 'C' : 3})\n",
    "corr_matrix = titanic_df_num.corr()\n",
    "\n",
    "\n",
    "sns.heatmap(corr_matrix, annot=True, cmap='coolwarm', fmt=\".2f\", linewidths=0.5)\n",
    "plt.title(\"Correlation Matrix\")\n",
    "plt.show()"
   ]
  },
  {
   "cell_type": "markdown",
   "id": "26368193",
   "metadata": {},
   "source": [
    "<h3>b) Pairwise Plots"
   ]
  },
  {
   "cell_type": "code",
   "execution_count": null,
   "id": "ef37e4e2",
   "metadata": {},
   "outputs": [],
   "source": [
    "sns.pairplot(titanic_df_num)"
   ]
  },
  {
   "cell_type": "markdown",
   "id": "55096459",
   "metadata": {},
   "source": [
    "<h3>c) PCA"
   ]
  },
  {
   "cell_type": "code",
   "execution_count": null,
   "id": "a2d6f61e",
   "metadata": {},
   "outputs": [],
   "source": [
    "from sklearn.decomposition import PCA\n",
    "\n",
    "pca = PCA(n_components=3)\n",
    "components = pca.fit(titanic_df_num).transform(titanic_df)\n"
   ]
  },
  {
   "cell_type": "code",
   "execution_count": null,
   "id": "2db4e9c3",
   "metadata": {},
   "outputs": [],
   "source": [
    "titanic_df_num.columns"
   ]
  },
  {
   "cell_type": "code",
   "execution_count": null,
   "id": "efd65faa",
   "metadata": {},
   "outputs": [],
   "source": [
    "r = pca.components_\n",
    "\n",
    "print(r)"
   ]
  },
  {
   "cell_type": "code",
   "execution_count": null,
   "id": "b0bdaa55",
   "metadata": {},
   "outputs": [],
   "source": [
    "explained_variance = pca.explained_variance_ratio_\n",
    "explained_variance"
   ]
  },
  {
   "cell_type": "markdown",
   "id": "2480cbd3",
   "metadata": {},
   "source": [
    "PCA 1 is corresponding to Flare and holds 93% of the variance\n",
    "\n",
    "PCA 2 is corresponding to Age and holds 6.5% of the variance\n",
    "\n",
    "PCA 3 is corresponding to embarked and holds 0.0005% of the variance"
   ]
  },
  {
   "cell_type": "markdown",
   "id": "64d5729b",
   "metadata": {},
   "source": [
    "<h2>IV) Features linked to Survival </h2>"
   ]
  },
  {
   "cell_type": "markdown",
   "id": "64f15f99",
   "metadata": {},
   "source": [
    "<h3>a) Mutual information"
   ]
  },
  {
   "cell_type": "code",
   "execution_count": null,
   "id": "27ddbb36",
   "metadata": {},
   "outputs": [],
   "source": [
    "target_feature = titanic_df_num[['Survived']]  \n",
    "X = titanic_df_num.drop(columns={'Survived'})\n",
    "X"
   ]
  },
  {
   "cell_type": "code",
   "execution_count": null,
   "id": "be666974",
   "metadata": {},
   "outputs": [],
   "source": [
    "from sklearn.feature_selection import mutual_info_classif\n",
    "\n",
    "mi = mutual_info_classif(X, target_feature)\n",
    "mi"
   ]
  },
  {
   "cell_type": "markdown",
   "id": "b3d1fed2",
   "metadata": {},
   "source": [
    "<h3>b) Tree based importance feature"
   ]
  },
  {
   "cell_type": "code",
   "execution_count": null,
   "id": "244aa35f",
   "metadata": {},
   "outputs": [],
   "source": [
    "from sklearn.ensemble import RandomForestClassifier\n",
    "\n",
    "rf = RandomForestClassifier().fit(X, target_feature)\n",
    "importances = rf.feature_importances_\n",
    "\n",
    "importances"
   ]
  },
  {
   "cell_type": "markdown",
   "id": "b07cc13b",
   "metadata": {},
   "source": [
    "<h3>c) Plot"
   ]
  },
  {
   "cell_type": "code",
   "execution_count": null,
   "id": "f1988f6b",
   "metadata": {},
   "outputs": [],
   "source": [
    "feature_name = X.columns.to_list()\n",
    "\n",
    "feature_importances = pd.DataFrame({\n",
    "    'Features' : feature_name, \n",
    "    'Mutual Information' : mi, \n",
    "    'RF Importance' : importances\n",
    "})\n",
    "\n",
    "feature_importances = feature_importances.set_index('Features')\n",
    "feature_importances"
   ]
  },
  {
   "cell_type": "code",
   "execution_count": null,
   "id": "2f50aef7",
   "metadata": {},
   "outputs": [],
   "source": [
    "feature_importances.plot(kind='bar')"
   ]
  }
 ],
 "metadata": {
  "kernelspec": {
   "display_name": "dse_511_titanic",
   "language": "python",
   "name": "python3"
  },
  "language_info": {
   "codemirror_mode": {
    "name": "ipython",
    "version": 3
   },
   "file_extension": ".py",
   "mimetype": "text/x-python",
   "name": "python",
   "nbconvert_exporter": "python",
   "pygments_lexer": "ipython3",
   "version": "3.10.18"
  }
 },
 "nbformat": 4,
 "nbformat_minor": 5
}
