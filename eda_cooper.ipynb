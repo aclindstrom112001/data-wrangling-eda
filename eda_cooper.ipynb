{
 "cells": [
  {
   "cell_type": "code",
   "execution_count": 1,
   "id": "677a5f59-5265-4744-9e79-bc4c2ea9feef",
   "metadata": {},
   "outputs": [],
   "source": [
    "import seaborn as sns\n",
    "import pandas as pd\n",
    "import numpy as np\n",
    "import matplotlib.pyplot as plt"
   ]
  },
  {
   "cell_type": "markdown",
   "id": "2728a34b",
   "metadata": {},
   "source": [
    "<h2> I) Data Loading </h2>"
   ]
  },
  {
   "cell_type": "code",
   "execution_count": 2,
   "id": "eff2a897-1adb-41f6-9f56-cdf2dd7aaaaf",
   "metadata": {},
   "outputs": [
    {
     "data": {
      "application/vnd.microsoft.datawrangler.viewer.v0+json": {
       "columns": [
        {
         "name": "index",
         "rawType": "int64",
         "type": "integer"
        },
        {
         "name": "Survived",
         "rawType": "int64",
         "type": "integer"
        },
        {
         "name": "Class",
         "rawType": "int64",
         "type": "integer"
        },
        {
         "name": "Sex",
         "rawType": "object",
         "type": "string"
        },
        {
         "name": "Age",
         "rawType": "float64",
         "type": "float"
        },
        {
         "name": "Fare",
         "rawType": "float64",
         "type": "float"
        },
        {
         "name": "SiblingsSpouses",
         "rawType": "int64",
         "type": "integer"
        },
        {
         "name": "ParentsChildren",
         "rawType": "int64",
         "type": "integer"
        },
        {
         "name": "embarked",
         "rawType": "object",
         "type": "string"
        }
       ],
       "ref": "3539f561-d477-4709-875f-480aa37b195c",
       "rows": [
        [
         "0",
         "0",
         "3",
         "M",
         "22.0",
         "7.25",
         "1",
         "0",
         "S"
        ],
        [
         "1",
         "1",
         "1",
         "F",
         "38.0",
         "71.2833",
         "1",
         "0",
         "C"
        ],
        [
         "2",
         "1",
         "3",
         "F",
         "26.0",
         "7.925",
         "0",
         "0",
         "S"
        ],
        [
         "3",
         "1",
         "1",
         "F",
         "35.0",
         "53.1",
         "1",
         "0",
         "S"
        ],
        [
         "4",
         "0",
         "3",
         "M",
         "35.0",
         "8.05",
         "0",
         "0",
         "S"
        ],
        [
         "5",
         "0",
         "3",
         "M",
         "28.0",
         "8.4583",
         "0",
         "0",
         "Q"
        ],
        [
         "6",
         "0",
         "1",
         "M",
         "54.0",
         "51.8625",
         "0",
         "0",
         "S"
        ],
        [
         "7",
         "0",
         "3",
         "M",
         "2.0",
         "21.075",
         "3",
         "1",
         "S"
        ],
        [
         "8",
         "1",
         "3",
         "F",
         "27.0",
         "11.1333",
         "0",
         "2",
         "S"
        ],
        [
         "9",
         "1",
         "2",
         "F",
         "14.0",
         "30.0708",
         "1",
         "0",
         "C"
        ],
        [
         "10",
         "1",
         "3",
         "F",
         "4.0",
         "16.7",
         "1",
         "1",
         "S"
        ],
        [
         "11",
         "1",
         "1",
         "F",
         "58.0",
         "26.55",
         "0",
         "0",
         "S"
        ],
        [
         "12",
         "0",
         "3",
         "M",
         "20.0",
         "8.05",
         "0",
         "0",
         "S"
        ],
        [
         "13",
         "0",
         "3",
         "M",
         "39.0",
         "31.275",
         "1",
         "5",
         "S"
        ],
        [
         "14",
         "0",
         "3",
         "F",
         "14.0",
         "7.8542",
         "0",
         "0",
         "S"
        ],
        [
         "15",
         "1",
         "2",
         "F",
         "55.0",
         "16.0",
         "0",
         "0",
         "S"
        ],
        [
         "16",
         "0",
         "3",
         "M",
         "2.0",
         "29.125",
         "4",
         "1",
         "Q"
        ],
        [
         "17",
         "1",
         "2",
         "M",
         "28.0",
         "13.0",
         "0",
         "0",
         "S"
        ],
        [
         "18",
         "0",
         "3",
         "F",
         "31.0",
         "18.0",
         "1",
         "0",
         "S"
        ],
        [
         "19",
         "1",
         "3",
         "F",
         "28.0",
         "7.225",
         "0",
         "0",
         "C"
        ],
        [
         "20",
         "0",
         "2",
         "M",
         "35.0",
         "26.0",
         "0",
         "0",
         "S"
        ],
        [
         "21",
         "1",
         "2",
         "M",
         "34.0",
         "13.0",
         "0",
         "0",
         "S"
        ],
        [
         "22",
         "1",
         "3",
         "F",
         "15.0",
         "8.0292",
         "0",
         "0",
         "Q"
        ],
        [
         "23",
         "1",
         "1",
         "M",
         "28.0",
         "35.5",
         "0",
         "0",
         "S"
        ],
        [
         "24",
         "0",
         "3",
         "F",
         "8.0",
         "21.075",
         "3",
         "1",
         "S"
        ],
        [
         "25",
         "1",
         "3",
         "F",
         "38.0",
         "31.3875",
         "1",
         "5",
         "S"
        ],
        [
         "26",
         "0",
         "3",
         "M",
         "28.0",
         "7.225",
         "0",
         "0",
         "C"
        ],
        [
         "27",
         "0",
         "1",
         "M",
         "19.0",
         "263.0",
         "3",
         "2",
         "S"
        ],
        [
         "28",
         "1",
         "3",
         "F",
         "28.0",
         "7.8792",
         "0",
         "0",
         "Q"
        ],
        [
         "29",
         "0",
         "3",
         "M",
         "28.0",
         "7.8958",
         "0",
         "0",
         "S"
        ],
        [
         "30",
         "0",
         "1",
         "M",
         "40.0",
         "27.7208",
         "0",
         "0",
         "C"
        ],
        [
         "31",
         "1",
         "1",
         "F",
         "28.0",
         "146.5208",
         "1",
         "0",
         "C"
        ],
        [
         "32",
         "1",
         "3",
         "F",
         "28.0",
         "7.75",
         "0",
         "0",
         "Q"
        ],
        [
         "33",
         "0",
         "2",
         "M",
         "66.0",
         "10.5",
         "0",
         "0",
         "S"
        ],
        [
         "34",
         "0",
         "1",
         "M",
         "28.0",
         "82.1708",
         "1",
         "0",
         "C"
        ],
        [
         "35",
         "0",
         "1",
         "M",
         "42.0",
         "52.0",
         "1",
         "0",
         "S"
        ],
        [
         "36",
         "1",
         "3",
         "M",
         "28.0",
         "7.2292",
         "0",
         "0",
         "C"
        ],
        [
         "37",
         "0",
         "3",
         "M",
         "21.0",
         "8.05",
         "0",
         "0",
         "S"
        ],
        [
         "38",
         "0",
         "3",
         "F",
         "18.0",
         "18.0",
         "2",
         "0",
         "S"
        ],
        [
         "39",
         "1",
         "3",
         "F",
         "14.0",
         "11.2417",
         "1",
         "0",
         "C"
        ],
        [
         "40",
         "0",
         "3",
         "F",
         "40.0",
         "9.475",
         "1",
         "0",
         "S"
        ],
        [
         "41",
         "0",
         "2",
         "F",
         "27.0",
         "21.0",
         "1",
         "0",
         "S"
        ],
        [
         "42",
         "0",
         "3",
         "M",
         "28.0",
         "7.8958",
         "0",
         "0",
         "C"
        ],
        [
         "43",
         "1",
         "2",
         "F",
         "3.0",
         "41.5792",
         "1",
         "2",
         "C"
        ],
        [
         "44",
         "1",
         "3",
         "F",
         "19.0",
         "7.8792",
         "0",
         "0",
         "Q"
        ],
        [
         "45",
         "0",
         "3",
         "M",
         "28.0",
         "8.05",
         "0",
         "0",
         "S"
        ],
        [
         "46",
         "0",
         "3",
         "M",
         "28.0",
         "15.5",
         "1",
         "0",
         "Q"
        ],
        [
         "47",
         "1",
         "3",
         "F",
         "28.0",
         "7.75",
         "0",
         "0",
         "Q"
        ],
        [
         "48",
         "0",
         "3",
         "M",
         "28.0",
         "21.6792",
         "2",
         "0",
         "C"
        ],
        [
         "49",
         "0",
         "3",
         "F",
         "18.0",
         "17.8",
         "1",
         "0",
         "S"
        ]
       ],
       "shape": {
        "columns": 8,
        "rows": 891
       }
      },
      "text/html": [
       "<div>\n",
       "<style scoped>\n",
       "    .dataframe tbody tr th:only-of-type {\n",
       "        vertical-align: middle;\n",
       "    }\n",
       "\n",
       "    .dataframe tbody tr th {\n",
       "        vertical-align: top;\n",
       "    }\n",
       "\n",
       "    .dataframe thead th {\n",
       "        text-align: right;\n",
       "    }\n",
       "</style>\n",
       "<table border=\"1\" class=\"dataframe\">\n",
       "  <thead>\n",
       "    <tr style=\"text-align: right;\">\n",
       "      <th></th>\n",
       "      <th>Survived</th>\n",
       "      <th>Class</th>\n",
       "      <th>Sex</th>\n",
       "      <th>Age</th>\n",
       "      <th>Fare</th>\n",
       "      <th>SiblingsSpouses</th>\n",
       "      <th>ParentsChildren</th>\n",
       "      <th>embarked</th>\n",
       "    </tr>\n",
       "  </thead>\n",
       "  <tbody>\n",
       "    <tr>\n",
       "      <th>0</th>\n",
       "      <td>0</td>\n",
       "      <td>3</td>\n",
       "      <td>M</td>\n",
       "      <td>22.0</td>\n",
       "      <td>7.2500</td>\n",
       "      <td>1</td>\n",
       "      <td>0</td>\n",
       "      <td>S</td>\n",
       "    </tr>\n",
       "    <tr>\n",
       "      <th>1</th>\n",
       "      <td>1</td>\n",
       "      <td>1</td>\n",
       "      <td>F</td>\n",
       "      <td>38.0</td>\n",
       "      <td>71.2833</td>\n",
       "      <td>1</td>\n",
       "      <td>0</td>\n",
       "      <td>C</td>\n",
       "    </tr>\n",
       "    <tr>\n",
       "      <th>2</th>\n",
       "      <td>1</td>\n",
       "      <td>3</td>\n",
       "      <td>F</td>\n",
       "      <td>26.0</td>\n",
       "      <td>7.9250</td>\n",
       "      <td>0</td>\n",
       "      <td>0</td>\n",
       "      <td>S</td>\n",
       "    </tr>\n",
       "    <tr>\n",
       "      <th>3</th>\n",
       "      <td>1</td>\n",
       "      <td>1</td>\n",
       "      <td>F</td>\n",
       "      <td>35.0</td>\n",
       "      <td>53.1000</td>\n",
       "      <td>1</td>\n",
       "      <td>0</td>\n",
       "      <td>S</td>\n",
       "    </tr>\n",
       "    <tr>\n",
       "      <th>4</th>\n",
       "      <td>0</td>\n",
       "      <td>3</td>\n",
       "      <td>M</td>\n",
       "      <td>35.0</td>\n",
       "      <td>8.0500</td>\n",
       "      <td>0</td>\n",
       "      <td>0</td>\n",
       "      <td>S</td>\n",
       "    </tr>\n",
       "    <tr>\n",
       "      <th>...</th>\n",
       "      <td>...</td>\n",
       "      <td>...</td>\n",
       "      <td>...</td>\n",
       "      <td>...</td>\n",
       "      <td>...</td>\n",
       "      <td>...</td>\n",
       "      <td>...</td>\n",
       "      <td>...</td>\n",
       "    </tr>\n",
       "    <tr>\n",
       "      <th>886</th>\n",
       "      <td>0</td>\n",
       "      <td>2</td>\n",
       "      <td>M</td>\n",
       "      <td>27.0</td>\n",
       "      <td>13.0000</td>\n",
       "      <td>0</td>\n",
       "      <td>0</td>\n",
       "      <td>S</td>\n",
       "    </tr>\n",
       "    <tr>\n",
       "      <th>887</th>\n",
       "      <td>1</td>\n",
       "      <td>1</td>\n",
       "      <td>F</td>\n",
       "      <td>19.0</td>\n",
       "      <td>30.0000</td>\n",
       "      <td>0</td>\n",
       "      <td>0</td>\n",
       "      <td>S</td>\n",
       "    </tr>\n",
       "    <tr>\n",
       "      <th>888</th>\n",
       "      <td>0</td>\n",
       "      <td>3</td>\n",
       "      <td>F</td>\n",
       "      <td>28.0</td>\n",
       "      <td>23.4500</td>\n",
       "      <td>1</td>\n",
       "      <td>2</td>\n",
       "      <td>S</td>\n",
       "    </tr>\n",
       "    <tr>\n",
       "      <th>889</th>\n",
       "      <td>1</td>\n",
       "      <td>1</td>\n",
       "      <td>M</td>\n",
       "      <td>26.0</td>\n",
       "      <td>30.0000</td>\n",
       "      <td>0</td>\n",
       "      <td>0</td>\n",
       "      <td>C</td>\n",
       "    </tr>\n",
       "    <tr>\n",
       "      <th>890</th>\n",
       "      <td>0</td>\n",
       "      <td>3</td>\n",
       "      <td>M</td>\n",
       "      <td>32.0</td>\n",
       "      <td>7.7500</td>\n",
       "      <td>0</td>\n",
       "      <td>0</td>\n",
       "      <td>Q</td>\n",
       "    </tr>\n",
       "  </tbody>\n",
       "</table>\n",
       "<p>891 rows × 8 columns</p>\n",
       "</div>"
      ],
      "text/plain": [
       "     Survived  Class Sex   Age     Fare  SiblingsSpouses  ParentsChildren  \\\n",
       "0           0      3   M  22.0   7.2500                1                0   \n",
       "1           1      1   F  38.0  71.2833                1                0   \n",
       "2           1      3   F  26.0   7.9250                0                0   \n",
       "3           1      1   F  35.0  53.1000                1                0   \n",
       "4           0      3   M  35.0   8.0500                0                0   \n",
       "..        ...    ...  ..   ...      ...              ...              ...   \n",
       "886         0      2   M  27.0  13.0000                0                0   \n",
       "887         1      1   F  19.0  30.0000                0                0   \n",
       "888         0      3   F  28.0  23.4500                1                2   \n",
       "889         1      1   M  26.0  30.0000                0                0   \n",
       "890         0      3   M  32.0   7.7500                0                0   \n",
       "\n",
       "    embarked  \n",
       "0          S  \n",
       "1          C  \n",
       "2          S  \n",
       "3          S  \n",
       "4          S  \n",
       "..       ...  \n",
       "886        S  \n",
       "887        S  \n",
       "888        S  \n",
       "889        C  \n",
       "890        Q  \n",
       "\n",
       "[891 rows x 8 columns]"
      ]
     },
     "execution_count": 2,
     "metadata": {},
     "output_type": "execute_result"
    }
   ],
   "source": [
    "# Load dataset\n",
    "titanic_df = pd.read_csv(\"clean_titanic.csv\")\n",
    "titanic_df"
   ]
  },
  {
   "cell_type": "code",
   "execution_count": 3,
   "id": "9ff8c8bd",
   "metadata": {},
   "outputs": [
    {
     "data": {
      "text/plain": [
       "Index(['Survived', 'Class', 'Sex', 'Age', 'Fare', 'SiblingsSpouses',\n",
       "       'ParentsChildren', 'embarked'],\n",
       "      dtype='object')"
      ]
     },
     "execution_count": 3,
     "metadata": {},
     "output_type": "execute_result"
    }
   ],
   "source": [
    "titanic_df.columns"
   ]
  },
  {
   "cell_type": "markdown",
   "id": "bc5cf1f3",
   "metadata": {},
   "source": [
    "<h2>II) Accident Overview </h2>"
   ]
  },
  {
   "cell_type": "markdown",
   "id": "137c4a66",
   "metadata": {},
   "source": [
    "<h3>a) Survival Rate "
   ]
  },
  {
   "cell_type": "code",
   "execution_count": 101,
   "id": "7444bf0c",
   "metadata": {},
   "outputs": [
    {
     "name": "stdout",
     "output_type": "stream",
     "text": [
      "Number of survivals: 342.00\n",
      "Chance of survive: 0.38\n"
     ]
    }
   ],
   "source": [
    "survived_count = float(titanic_df['Survived'].sum())       #Count the number of survivals\n",
    "survival_rate = survived_count / len(titanic_df['Survived'])  #Death ratio: number of survivals / total number of passengers\n",
    "\n",
    "\n",
    "print(f\"Number of survivals: {survived_count:.2f}\")\n",
    "print(f\"Chance of survive: {survival_rate:.2f}\")"
   ]
  },
  {
   "cell_type": "markdown",
   "id": "8fa35103",
   "metadata": {},
   "source": [
    "<h3>b) Ticket class distribution"
   ]
  },
  {
   "cell_type": "code",
   "execution_count": 5,
   "id": "53969527",
   "metadata": {},
   "outputs": [
    {
     "data": {
      "application/vnd.microsoft.datawrangler.viewer.v0+json": {
       "columns": [
        {
         "name": "index",
         "rawType": "int64",
         "type": "integer"
        },
        {
         "name": "Class 1",
         "rawType": "int64",
         "type": "integer"
        },
        {
         "name": "Class 2",
         "rawType": "int64",
         "type": "integer"
        },
        {
         "name": "Class 3",
         "rawType": "int64",
         "type": "integer"
        }
       ],
       "ref": "129f6e24-2033-48ff-859c-da1bd3478026",
       "rows": [
        [
         "0",
         "216",
         "184",
         "491"
        ]
       ],
       "shape": {
        "columns": 3,
        "rows": 1
       }
      },
      "text/html": [
       "<div>\n",
       "<style scoped>\n",
       "    .dataframe tbody tr th:only-of-type {\n",
       "        vertical-align: middle;\n",
       "    }\n",
       "\n",
       "    .dataframe tbody tr th {\n",
       "        vertical-align: top;\n",
       "    }\n",
       "\n",
       "    .dataframe thead th {\n",
       "        text-align: right;\n",
       "    }\n",
       "</style>\n",
       "<table border=\"1\" class=\"dataframe\">\n",
       "  <thead>\n",
       "    <tr style=\"text-align: right;\">\n",
       "      <th></th>\n",
       "      <th>Class 1</th>\n",
       "      <th>Class 2</th>\n",
       "      <th>Class 3</th>\n",
       "    </tr>\n",
       "  </thead>\n",
       "  <tbody>\n",
       "    <tr>\n",
       "      <th>0</th>\n",
       "      <td>216</td>\n",
       "      <td>184</td>\n",
       "      <td>491</td>\n",
       "    </tr>\n",
       "  </tbody>\n",
       "</table>\n",
       "</div>"
      ],
      "text/plain": [
       "   Class 1  Class 2  Class 3\n",
       "0      216      184      491"
      ]
     },
     "execution_count": 5,
     "metadata": {},
     "output_type": "execute_result"
    }
   ],
   "source": [
    "class_ticket = titanic_df[[\"Class\"]]\n",
    "\n",
    "class_ticket_1 = len(class_ticket[class_ticket[\"Class\"] == 1])\n",
    "class_ticket_2 = len(class_ticket[class_ticket[\"Class\"] == 2])\n",
    "class_ticket_3 = len(class_ticket[class_ticket[\"Class\"] == 3])\n",
    "\n",
    "class_ticket_counts = pd.DataFrame(                  #Create a dataset with the number of ticket class 1, class 2 and class 3\n",
    "    {'Class 1': [class_ticket_1],\n",
    "     'Class 2': [class_ticket_2],\n",
    "     'Class 3': [class_ticket_3],\n",
    "     })\n",
    "\n",
    "\n",
    "\n",
    "class_ticket_counts\n"
   ]
  },
  {
   "cell_type": "markdown",
   "id": "7677411d",
   "metadata": {},
   "source": [
    "<h3>c) Gender and family distribution"
   ]
  },
  {
   "cell_type": "code",
   "execution_count": 6,
   "id": "498942fa",
   "metadata": {},
   "outputs": [],
   "source": [
    "#Number of women number of men\n",
    "\n",
    "gender_df = titanic_df[['Sex']]\n",
    "gender_counts = gender_df.value_counts()\n",
    "\n",
    "\n",
    "\n",
    "#Number of children\n",
    "\n",
    "children_df = titanic_df[['ParentsChildren']].sum()\n"
   ]
  },
  {
   "cell_type": "code",
   "execution_count": 7,
   "id": "8bde81d1",
   "metadata": {},
   "outputs": [
    {
     "name": "stdout",
     "output_type": "stream",
     "text": [
      "Gender Distribution\n"
     ]
    },
    {
     "data": {
      "application/vnd.microsoft.datawrangler.viewer.v0+json": {
       "columns": [
        {
         "name": "index",
         "rawType": "object",
         "type": "unknown"
        },
        {
         "name": "count",
         "rawType": "int64",
         "type": "integer"
        }
       ],
       "ref": "7cf72926-21ff-4b46-8759-672c83701aad",
       "rows": [
        [
         "('M',)",
         "577"
        ],
        [
         "('F',)",
         "314"
        ]
       ],
       "shape": {
        "columns": 1,
        "rows": 2
       }
      },
      "text/plain": [
       "Sex\n",
       "M      577\n",
       "F      314\n",
       "Name: count, dtype: int64"
      ]
     },
     "execution_count": 7,
     "metadata": {},
     "output_type": "execute_result"
    }
   ],
   "source": [
    "print(\"Gender Distribution\")\n",
    "gender_counts"
   ]
  },
  {
   "cell_type": "code",
   "execution_count": 102,
   "id": "6b1edca3",
   "metadata": {},
   "outputs": [
    {
     "name": "stdout",
     "output_type": "stream",
     "text": [
      "Number of Parents and Children\n"
     ]
    },
    {
     "data": {
      "application/vnd.microsoft.datawrangler.viewer.v0+json": {
       "columns": [
        {
         "name": "index",
         "rawType": "object",
         "type": "string"
        },
        {
         "name": "0",
         "rawType": "int64",
         "type": "integer"
        }
       ],
       "ref": "02376699-4d21-4682-a839-7203805b6207",
       "rows": [
        [
         "ParentsChildren",
         "340"
        ]
       ],
       "shape": {
        "columns": 1,
        "rows": 1
       }
      },
      "text/plain": [
       "ParentsChildren    340\n",
       "dtype: int64"
      ]
     },
     "execution_count": 102,
     "metadata": {},
     "output_type": "execute_result"
    }
   ],
   "source": [
    "print(\"Number of Parents and Children\")\n",
    "children_df"
   ]
  },
  {
   "cell_type": "markdown",
   "id": "a7dd6ffd",
   "metadata": {},
   "source": [
    "<h3>d) Age distribution "
   ]
  },
  {
   "cell_type": "code",
   "execution_count": 9,
   "id": "6e4d2d96",
   "metadata": {},
   "outputs": [
    {
     "data": {
      "application/vnd.microsoft.datawrangler.viewer.v0+json": {
       "columns": [
        {
         "name": "index",
         "rawType": "object",
         "type": "string"
        },
        {
         "name": "Age",
         "rawType": "float64",
         "type": "float"
        }
       ],
       "ref": "36046056-47b2-42f2-b6c6-ba91125291fb",
       "rows": [
        [
         "count",
         "891.0"
        ],
        [
         "mean",
         "29.294284171298223"
        ],
        [
         "std",
         "13.182391670795607"
        ],
        [
         "min",
         "0.0"
        ],
        [
         "25%",
         "22.0"
        ],
        [
         "50%",
         "28.0"
        ],
        [
         "75%",
         "35.0"
        ],
        [
         "max",
         "80.0"
        ]
       ],
       "shape": {
        "columns": 1,
        "rows": 8
       }
      },
      "text/html": [
       "<div>\n",
       "<style scoped>\n",
       "    .dataframe tbody tr th:only-of-type {\n",
       "        vertical-align: middle;\n",
       "    }\n",
       "\n",
       "    .dataframe tbody tr th {\n",
       "        vertical-align: top;\n",
       "    }\n",
       "\n",
       "    .dataframe thead th {\n",
       "        text-align: right;\n",
       "    }\n",
       "</style>\n",
       "<table border=\"1\" class=\"dataframe\">\n",
       "  <thead>\n",
       "    <tr style=\"text-align: right;\">\n",
       "      <th></th>\n",
       "      <th>Age</th>\n",
       "    </tr>\n",
       "  </thead>\n",
       "  <tbody>\n",
       "    <tr>\n",
       "      <th>count</th>\n",
       "      <td>891.000000</td>\n",
       "    </tr>\n",
       "    <tr>\n",
       "      <th>mean</th>\n",
       "      <td>29.294284</td>\n",
       "    </tr>\n",
       "    <tr>\n",
       "      <th>std</th>\n",
       "      <td>13.182392</td>\n",
       "    </tr>\n",
       "    <tr>\n",
       "      <th>min</th>\n",
       "      <td>0.000000</td>\n",
       "    </tr>\n",
       "    <tr>\n",
       "      <th>25%</th>\n",
       "      <td>22.000000</td>\n",
       "    </tr>\n",
       "    <tr>\n",
       "      <th>50%</th>\n",
       "      <td>28.000000</td>\n",
       "    </tr>\n",
       "    <tr>\n",
       "      <th>75%</th>\n",
       "      <td>35.000000</td>\n",
       "    </tr>\n",
       "    <tr>\n",
       "      <th>max</th>\n",
       "      <td>80.000000</td>\n",
       "    </tr>\n",
       "  </tbody>\n",
       "</table>\n",
       "</div>"
      ],
      "text/plain": [
       "              Age\n",
       "count  891.000000\n",
       "mean    29.294284\n",
       "std     13.182392\n",
       "min      0.000000\n",
       "25%     22.000000\n",
       "50%     28.000000\n",
       "75%     35.000000\n",
       "max     80.000000"
      ]
     },
     "execution_count": 9,
     "metadata": {},
     "output_type": "execute_result"
    }
   ],
   "source": [
    "age_df = titanic_df[[\"Age\"]]\n",
    "age_info = age_df.describe()  #Compute mean, std, quartiles and other standar statistic metrics\n",
    "age_info  \n"
   ]
  },
  {
   "cell_type": "code",
   "execution_count": 10,
   "id": "477bc779",
   "metadata": {},
   "outputs": [
    {
     "data": {
      "image/png": "[encoded data removed]",
      "text/plain": [
       "<Figure size 800x500 with 1 Axes>"
      ]
     },
     "metadata": {},
     "output_type": "display_data"
    }
   ],
   "source": [
    "plt.figure(figsize=(8,5))\n",
    "sns.histplot(age_df, bins=30, kde=True) \n",
    "plt.title(\"Age Distribution\")\n",
    "plt.xlabel(\"Age\")\n",
    "plt.ylabel(\"Frequency\")\n",
    "plt.show()"
   ]
  },
  {
   "cell_type": "markdown",
   "id": "9eb3b7c6",
   "metadata": {},
   "source": [
    "<h3>e) Ticket Price in £"
   ]
  },
  {
   "cell_type": "code",
   "execution_count": 11,
   "id": "cc1a91df",
   "metadata": {},
   "outputs": [
    {
     "data": {
      "application/vnd.microsoft.datawrangler.viewer.v0+json": {
       "columns": [
        {
         "name": "index",
         "rawType": "object",
         "type": "string"
        },
        {
         "name": "Fare",
         "rawType": "float64",
         "type": "float"
        }
       ],
       "ref": "6c567e3e-67ea-4829-87ac-234a0f491203",
       "rows": [
        [
         "count",
         "891.0"
        ],
        [
         "mean",
         "32.204207968574636"
        ],
        [
         "std",
         "49.6934285971809"
        ],
        [
         "min",
         "0.0"
        ],
        [
         "25%",
         "7.9104"
        ],
        [
         "50%",
         "14.4542"
        ],
        [
         "75%",
         "31.0"
        ],
        [
         "max",
         "512.3292"
        ]
       ],
       "shape": {
        "columns": 1,
        "rows": 8
       }
      },
      "text/html": [
       "<div>\n",
       "<style scoped>\n",
       "    .dataframe tbody tr th:only-of-type {\n",
       "        vertical-align: middle;\n",
       "    }\n",
       "\n",
       "    .dataframe tbody tr th {\n",
       "        vertical-align: top;\n",
       "    }\n",
       "\n",
       "    .dataframe thead th {\n",
       "        text-align: right;\n",
       "    }\n",
       "</style>\n",
       "<table border=\"1\" class=\"dataframe\">\n",
       "  <thead>\n",
       "    <tr style=\"text-align: right;\">\n",
       "      <th></th>\n",
       "      <th>Fare</th>\n",
       "    </tr>\n",
       "  </thead>\n",
       "  <tbody>\n",
       "    <tr>\n",
       "      <th>count</th>\n",
       "      <td>891.000000</td>\n",
       "    </tr>\n",
       "    <tr>\n",
       "      <th>mean</th>\n",
       "      <td>32.204208</td>\n",
       "    </tr>\n",
       "    <tr>\n",
       "      <th>std</th>\n",
       "      <td>49.693429</td>\n",
       "    </tr>\n",
       "    <tr>\n",
       "      <th>min</th>\n",
       "      <td>0.000000</td>\n",
       "    </tr>\n",
       "    <tr>\n",
       "      <th>25%</th>\n",
       "      <td>7.910400</td>\n",
       "    </tr>\n",
       "    <tr>\n",
       "      <th>50%</th>\n",
       "      <td>14.454200</td>\n",
       "    </tr>\n",
       "    <tr>\n",
       "      <th>75%</th>\n",
       "      <td>31.000000</td>\n",
       "    </tr>\n",
       "    <tr>\n",
       "      <th>max</th>\n",
       "      <td>512.329200</td>\n",
       "    </tr>\n",
       "  </tbody>\n",
       "</table>\n",
       "</div>"
      ],
      "text/plain": [
       "             Fare\n",
       "count  891.000000\n",
       "mean    32.204208\n",
       "std     49.693429\n",
       "min      0.000000\n",
       "25%      7.910400\n",
       "50%     14.454200\n",
       "75%     31.000000\n",
       "max    512.329200"
      ]
     },
     "execution_count": 11,
     "metadata": {},
     "output_type": "execute_result"
    }
   ],
   "source": [
    "ticket_price_df = titanic_df[['Fare']]\n",
    "ticket_price_df.describe()"
   ]
  },
  {
   "cell_type": "code",
   "execution_count": 12,
   "id": "c220155a",
   "metadata": {},
   "outputs": [
    {
     "data": {
      "image/png": "[encoded data removed]",
      "text/plain": [
       "<Figure size 800x500 with 1 Axes>"
      ]
     },
     "metadata": {},
     "output_type": "display_data"
    }
   ],
   "source": [
    "plt.figure(figsize=(8,5))\n",
    "sns.histplot(ticket_price_df, bins=50, kde=True) \n",
    "plt.title(\"Ticket Price distribution\")\n",
    "plt.xlabel(\"Price in £\")\n",
    "plt.ylabel(\"Frequency\")\n",
    "plt.show()"
   ]
  },
  {
   "cell_type": "markdown",
   "id": "7e19a896",
   "metadata": {},
   "source": [
    "We want to take into account inflation to estimate what would be the price of Titanic tickets today"
   ]
  },
  {
   "cell_type": "code",
   "execution_count": 13,
   "id": "885204a7",
   "metadata": {},
   "outputs": [
    {
     "name": "stderr",
     "output_type": "stream",
     "text": [
      "C:\\Users\\turki\\AppData\\Local\\Temp\\ipykernel_30860\\3488271965.py:13: SettingWithCopyWarning: \n",
      "A value is trying to be set on a copy of a slice from a DataFrame.\n",
      "Try using .loc[row_indexer,col_indexer] = value instead\n",
      "\n",
      "See the caveats in the documentation: https://pandas.pydata.org/pandas-docs/stable/user_guide/indexing.html#returning-a-view-versus-a-copy\n",
      "  ticket_price_df['Adjusted Price'] = list_adjusted_price\n"
     ]
    },
    {
     "data": {
      "application/vnd.microsoft.datawrangler.viewer.v0+json": {
       "columns": [
        {
         "name": "index",
         "rawType": "int64",
         "type": "integer"
        },
        {
         "name": "Fare",
         "rawType": "float64",
         "type": "float"
        },
        {
         "name": "Adjusted Price",
         "rawType": "float64",
         "type": "float"
        }
       ],
       "ref": "c1a7570d-6e5d-421a-9bc2-ca5cce69b9cc",
       "rows": [
        [
         "0",
         "7.25",
         "236.8811881188119"
        ],
        [
         "1",
         "71.2833",
         "2329.0583168316834"
        ],
        [
         "2",
         "7.925",
         "258.93564356435644"
        ],
        [
         "3",
         "53.1",
         "1734.9504950495052"
        ],
        [
         "4",
         "8.05",
         "263.01980198019805"
        ],
        [
         "5",
         "8.4583",
         "276.36029702970296"
        ],
        [
         "6",
         "51.8625",
         "1694.5173267326734"
        ],
        [
         "7",
         "21.075",
         "688.5891089108911"
        ],
        [
         "8",
         "11.1333",
         "363.7612871287129"
        ],
        [
         "9",
         "30.0708",
         "982.511287128713"
        ],
        [
         "10",
         "16.7",
         "545.6435643564357"
        ],
        [
         "11",
         "26.55",
         "867.4752475247526"
        ],
        [
         "12",
         "8.05",
         "263.01980198019805"
        ],
        [
         "13",
         "31.275",
         "1021.8564356435644"
        ],
        [
         "14",
         "7.8542",
         "256.62237623762377"
        ],
        [
         "15",
         "16.0",
         "522.7722772277228"
        ],
        [
         "16",
         "29.125",
         "951.6089108910892"
        ],
        [
         "17",
         "13.0",
         "424.7524752475248"
        ],
        [
         "18",
         "18.0",
         "588.1188118811882"
        ],
        [
         "19",
         "7.225",
         "236.0643564356436"
        ],
        [
         "20",
         "26.0",
         "849.5049504950496"
        ],
        [
         "21",
         "13.0",
         "424.7524752475248"
        ],
        [
         "22",
         "8.0292",
         "262.340198019802"
        ],
        [
         "23",
         "35.5",
         "1159.90099009901"
        ],
        [
         "24",
         "21.075",
         "688.5891089108911"
        ],
        [
         "25",
         "31.3875",
         "1025.5321782178219"
        ],
        [
         "26",
         "7.225",
         "236.0643564356436"
        ],
        [
         "27",
         "263.0",
         "8593.069306930694"
        ],
        [
         "28",
         "7.8792",
         "257.4392079207921"
        ],
        [
         "29",
         "7.8958",
         "257.9815841584159"
        ],
        [
         "30",
         "27.7208",
         "905.7291089108912"
        ],
        [
         "31",
         "146.5208",
         "4787.313267326734"
        ],
        [
         "32",
         "7.75",
         "253.21782178217825"
        ],
        [
         "33",
         "10.5",
         "343.06930693069313"
        ],
        [
         "34",
         "82.1708",
         "2684.7885148514856"
        ],
        [
         "35",
         "52.0",
         "1699.0099009900991"
        ],
        [
         "36",
         "7.2292",
         "236.20158415841587"
        ],
        [
         "37",
         "8.05",
         "263.01980198019805"
        ],
        [
         "38",
         "18.0",
         "588.1188118811882"
        ],
        [
         "39",
         "11.2417",
         "367.30306930693075"
        ],
        [
         "40",
         "9.475",
         "309.5792079207921"
        ],
        [
         "41",
         "21.0",
         "686.1386138613863"
        ],
        [
         "42",
         "7.8958",
         "257.9815841584159"
        ],
        [
         "43",
         "41.5792",
         "1358.5283168316832"
        ],
        [
         "44",
         "7.8792",
         "257.4392079207921"
        ],
        [
         "45",
         "8.05",
         "263.01980198019805"
        ],
        [
         "46",
         "15.5",
         "506.4356435643565"
        ],
        [
         "47",
         "7.75",
         "253.21782178217825"
        ],
        [
         "48",
         "21.6792",
         "708.3302970297032"
        ],
        [
         "49",
         "17.8",
         "581.5841584158417"
        ]
       ],
       "shape": {
        "columns": 2,
        "rows": 891
       }
      },
      "text/html": [
       "<div>\n",
       "<style scoped>\n",
       "    .dataframe tbody tr th:only-of-type {\n",
       "        vertical-align: middle;\n",
       "    }\n",
       "\n",
       "    .dataframe tbody tr th {\n",
       "        vertical-align: top;\n",
       "    }\n",
       "\n",
       "    .dataframe thead th {\n",
       "        text-align: right;\n",
       "    }\n",
       "</style>\n",
       "<table border=\"1\" class=\"dataframe\">\n",
       "  <thead>\n",
       "    <tr style=\"text-align: right;\">\n",
       "      <th></th>\n",
       "      <th>Fare</th>\n",
       "      <th>Adjusted Price</th>\n",
       "    </tr>\n",
       "  </thead>\n",
       "  <tbody>\n",
       "    <tr>\n",
       "      <th>0</th>\n",
       "      <td>7.2500</td>\n",
       "      <td>236.881188</td>\n",
       "    </tr>\n",
       "    <tr>\n",
       "      <th>1</th>\n",
       "      <td>71.2833</td>\n",
       "      <td>2329.058317</td>\n",
       "    </tr>\n",
       "    <tr>\n",
       "      <th>2</th>\n",
       "      <td>7.9250</td>\n",
       "      <td>258.935644</td>\n",
       "    </tr>\n",
       "    <tr>\n",
       "      <th>3</th>\n",
       "      <td>53.1000</td>\n",
       "      <td>1734.950495</td>\n",
       "    </tr>\n",
       "    <tr>\n",
       "      <th>4</th>\n",
       "      <td>8.0500</td>\n",
       "      <td>263.019802</td>\n",
       "    </tr>\n",
       "    <tr>\n",
       "      <th>...</th>\n",
       "      <td>...</td>\n",
       "      <td>...</td>\n",
       "    </tr>\n",
       "    <tr>\n",
       "      <th>886</th>\n",
       "      <td>13.0000</td>\n",
       "      <td>424.752475</td>\n",
       "    </tr>\n",
       "    <tr>\n",
       "      <th>887</th>\n",
       "      <td>30.0000</td>\n",
       "      <td>980.198020</td>\n",
       "    </tr>\n",
       "    <tr>\n",
       "      <th>888</th>\n",
       "      <td>23.4500</td>\n",
       "      <td>766.188119</td>\n",
       "    </tr>\n",
       "    <tr>\n",
       "      <th>889</th>\n",
       "      <td>30.0000</td>\n",
       "      <td>980.198020</td>\n",
       "    </tr>\n",
       "    <tr>\n",
       "      <th>890</th>\n",
       "      <td>7.7500</td>\n",
       "      <td>253.217822</td>\n",
       "    </tr>\n",
       "  </tbody>\n",
       "</table>\n",
       "<p>891 rows × 2 columns</p>\n",
       "</div>"
      ],
      "text/plain": [
       "        Fare  Adjusted Price\n",
       "0     7.2500      236.881188\n",
       "1    71.2833     2329.058317\n",
       "2     7.9250      258.935644\n",
       "3    53.1000     1734.950495\n",
       "4     8.0500      263.019802\n",
       "..       ...             ...\n",
       "886  13.0000      424.752475\n",
       "887  30.0000      980.198020\n",
       "888  23.4500      766.188119\n",
       "889  30.0000      980.198020\n",
       "890   7.7500      253.217822\n",
       "\n",
       "[891 rows x 2 columns]"
      ]
     },
     "execution_count": 13,
     "metadata": {},
     "output_type": "execute_result"
    }
   ],
   "source": [
    "#Inflation adjustement, retail price index (rpi) have been estimated with Chatgpt\n",
    "\n",
    "rpi_2025 = 330 \n",
    "rpi_2012 = 10.1\n",
    "\n",
    "list_adjusted_price = []\n",
    "\n",
    "for i in range(0, len(ticket_price_df)):\n",
    "    old_price = ticket_price_df.loc[i, 'Fare']\n",
    "    new_price = old_price * (rpi_2025 / rpi_2012)\n",
    "    list_adjusted_price.append(new_price)\n",
    "    \n",
    "ticket_price_df['Adjusted Price'] = list_adjusted_price\n",
    "ticket_price_df"
   ]
  },
  {
   "cell_type": "code",
   "execution_count": 14,
   "id": "638a1681",
   "metadata": {},
   "outputs": [
    {
     "data": {
      "application/vnd.microsoft.datawrangler.viewer.v0+json": {
       "columns": [
        {
         "name": "index",
         "rawType": "object",
         "type": "string"
        },
        {
         "name": "Adjusted Price",
         "rawType": "float64",
         "type": "float"
        }
       ],
       "ref": "d3826696-4196-4523-bc3d-9225eab1379c",
       "rows": [
        [
         "count",
         "891.0"
        ],
        [
         "mean",
         "1052.2166960029338"
        ],
        [
         "std",
         "1623.6466769375938"
        ],
        [
         "min",
         "0.0"
        ],
        [
         "25%",
         "258.4586138613862"
        ],
        [
         "50%",
         "472.2659405940595"
        ],
        [
         "75%",
         "1012.871287128713"
        ],
        [
         "max",
         "16739.468910891093"
        ]
       ],
       "shape": {
        "columns": 1,
        "rows": 8
       }
      },
      "text/html": [
       "<div>\n",
       "<style scoped>\n",
       "    .dataframe tbody tr th:only-of-type {\n",
       "        vertical-align: middle;\n",
       "    }\n",
       "\n",
       "    .dataframe tbody tr th {\n",
       "        vertical-align: top;\n",
       "    }\n",
       "\n",
       "    .dataframe thead th {\n",
       "        text-align: right;\n",
       "    }\n",
       "</style>\n",
       "<table border=\"1\" class=\"dataframe\">\n",
       "  <thead>\n",
       "    <tr style=\"text-align: right;\">\n",
       "      <th></th>\n",
       "      <th>Adjusted Price</th>\n",
       "    </tr>\n",
       "  </thead>\n",
       "  <tbody>\n",
       "    <tr>\n",
       "      <th>count</th>\n",
       "      <td>891.000000</td>\n",
       "    </tr>\n",
       "    <tr>\n",
       "      <th>mean</th>\n",
       "      <td>1052.216696</td>\n",
       "    </tr>\n",
       "    <tr>\n",
       "      <th>std</th>\n",
       "      <td>1623.646677</td>\n",
       "    </tr>\n",
       "    <tr>\n",
       "      <th>min</th>\n",
       "      <td>0.000000</td>\n",
       "    </tr>\n",
       "    <tr>\n",
       "      <th>25%</th>\n",
       "      <td>258.458614</td>\n",
       "    </tr>\n",
       "    <tr>\n",
       "      <th>50%</th>\n",
       "      <td>472.265941</td>\n",
       "    </tr>\n",
       "    <tr>\n",
       "      <th>75%</th>\n",
       "      <td>1012.871287</td>\n",
       "    </tr>\n",
       "    <tr>\n",
       "      <th>max</th>\n",
       "      <td>16739.468911</td>\n",
       "    </tr>\n",
       "  </tbody>\n",
       "</table>\n",
       "</div>"
      ],
      "text/plain": [
       "       Adjusted Price\n",
       "count      891.000000\n",
       "mean      1052.216696\n",
       "std       1623.646677\n",
       "min          0.000000\n",
       "25%        258.458614\n",
       "50%        472.265941\n",
       "75%       1012.871287\n",
       "max      16739.468911"
      ]
     },
     "execution_count": 14,
     "metadata": {},
     "output_type": "execute_result"
    }
   ],
   "source": [
    "ticket_price_df[['Adjusted Price']].describe()"
   ]
  },
  {
   "cell_type": "code",
   "execution_count": 103,
   "id": "0cd91644",
   "metadata": {},
   "outputs": [
    {
     "data": {
      "image/png": "[encoded data removed]",
      "text/plain": [
       "<Figure size 800x500 with 1 Axes>"
      ]
     },
     "metadata": {},
     "output_type": "display_data"
    }
   ],
   "source": [
    "plt.figure(figsize=(8,5))\n",
    "sns.histplot(ticket_price_df[['Adjusted Price']], bins=50, kde=True) \n",
    "plt.title(\"Ticket Price distribution inflation adjusted\")\n",
    "plt.xlabel(\"Price in £\")\n",
    "plt.ylabel(\"Frequency\")\n",
    "plt.show()"
   ]
  },
  {
   "cell_type": "markdown",
   "id": "853365f4",
   "metadata": {},
   "source": [
    "<h2>III) Correlation metrics </h2>"
   ]
  },
  {
   "cell_type": "markdown",
   "id": "11e6ebca",
   "metadata": {},
   "source": [
    "<h3>a) Correlation Matrix"
   ]
  },
  {
   "cell_type": "code",
   "execution_count": 16,
   "id": "b6f397e8",
   "metadata": {},
   "outputs": [
    {
     "data": {
      "application/vnd.microsoft.datawrangler.viewer.v0+json": {
       "columns": [
        {
         "name": "index",
         "rawType": "int64",
         "type": "integer"
        },
        {
         "name": "Survived",
         "rawType": "int64",
         "type": "integer"
        },
        {
         "name": "Class",
         "rawType": "int64",
         "type": "integer"
        },
        {
         "name": "Sex",
         "rawType": "object",
         "type": "string"
        },
        {
         "name": "Age",
         "rawType": "float64",
         "type": "float"
        },
        {
         "name": "Fare",
         "rawType": "float64",
         "type": "float"
        },
        {
         "name": "SiblingsSpouses",
         "rawType": "int64",
         "type": "integer"
        },
        {
         "name": "ParentsChildren",
         "rawType": "int64",
         "type": "integer"
        },
        {
         "name": "embarked",
         "rawType": "object",
         "type": "string"
        }
       ],
       "ref": "7b73697d-44e2-474e-80b1-3e4da434d30a",
       "rows": [
        [
         "0",
         "0",
         "3",
         "M",
         "22.0",
         "7.25",
         "1",
         "0",
         "S"
        ],
        [
         "1",
         "1",
         "1",
         "F",
         "38.0",
         "71.2833",
         "1",
         "0",
         "C"
        ],
        [
         "2",
         "1",
         "3",
         "F",
         "26.0",
         "7.925",
         "0",
         "0",
         "S"
        ],
        [
         "3",
         "1",
         "1",
         "F",
         "35.0",
         "53.1",
         "1",
         "0",
         "S"
        ],
        [
         "4",
         "0",
         "3",
         "M",
         "35.0",
         "8.05",
         "0",
         "0",
         "S"
        ],
        [
         "5",
         "0",
         "3",
         "M",
         "28.0",
         "8.4583",
         "0",
         "0",
         "Q"
        ],
        [
         "6",
         "0",
         "1",
         "M",
         "54.0",
         "51.8625",
         "0",
         "0",
         "S"
        ],
        [
         "7",
         "0",
         "3",
         "M",
         "2.0",
         "21.075",
         "3",
         "1",
         "S"
        ],
        [
         "8",
         "1",
         "3",
         "F",
         "27.0",
         "11.1333",
         "0",
         "2",
         "S"
        ],
        [
         "9",
         "1",
         "2",
         "F",
         "14.0",
         "30.0708",
         "1",
         "0",
         "C"
        ],
        [
         "10",
         "1",
         "3",
         "F",
         "4.0",
         "16.7",
         "1",
         "1",
         "S"
        ],
        [
         "11",
         "1",
         "1",
         "F",
         "58.0",
         "26.55",
         "0",
         "0",
         "S"
        ],
        [
         "12",
         "0",
         "3",
         "M",
         "20.0",
         "8.05",
         "0",
         "0",
         "S"
        ],
        [
         "13",
         "0",
         "3",
         "M",
         "39.0",
         "31.275",
         "1",
         "5",
         "S"
        ],
        [
         "14",
         "0",
         "3",
         "F",
         "14.0",
         "7.8542",
         "0",
         "0",
         "S"
        ],
        [
         "15",
         "1",
         "2",
         "F",
         "55.0",
         "16.0",
         "0",
         "0",
         "S"
        ],
        [
         "16",
         "0",
         "3",
         "M",
         "2.0",
         "29.125",
         "4",
         "1",
         "Q"
        ],
        [
         "17",
         "1",
         "2",
         "M",
         "28.0",
         "13.0",
         "0",
         "0",
         "S"
        ],
        [
         "18",
         "0",
         "3",
         "F",
         "31.0",
         "18.0",
         "1",
         "0",
         "S"
        ],
        [
         "19",
         "1",
         "3",
         "F",
         "28.0",
         "7.225",
         "0",
         "0",
         "C"
        ],
        [
         "20",
         "0",
         "2",
         "M",
         "35.0",
         "26.0",
         "0",
         "0",
         "S"
        ],
        [
         "21",
         "1",
         "2",
         "M",
         "34.0",
         "13.0",
         "0",
         "0",
         "S"
        ],
        [
         "22",
         "1",
         "3",
         "F",
         "15.0",
         "8.0292",
         "0",
         "0",
         "Q"
        ],
        [
         "23",
         "1",
         "1",
         "M",
         "28.0",
         "35.5",
         "0",
         "0",
         "S"
        ],
        [
         "24",
         "0",
         "3",
         "F",
         "8.0",
         "21.075",
         "3",
         "1",
         "S"
        ],
        [
         "25",
         "1",
         "3",
         "F",
         "38.0",
         "31.3875",
         "1",
         "5",
         "S"
        ],
        [
         "26",
         "0",
         "3",
         "M",
         "28.0",
         "7.225",
         "0",
         "0",
         "C"
        ],
        [
         "27",
         "0",
         "1",
         "M",
         "19.0",
         "263.0",
         "3",
         "2",
         "S"
        ],
        [
         "28",
         "1",
         "3",
         "F",
         "28.0",
         "7.8792",
         "0",
         "0",
         "Q"
        ],
        [
         "29",
         "0",
         "3",
         "M",
         "28.0",
         "7.8958",
         "0",
         "0",
         "S"
        ],
        [
         "30",
         "0",
         "1",
         "M",
         "40.0",
         "27.7208",
         "0",
         "0",
         "C"
        ],
        [
         "31",
         "1",
         "1",
         "F",
         "28.0",
         "146.5208",
         "1",
         "0",
         "C"
        ],
        [
         "32",
         "1",
         "3",
         "F",
         "28.0",
         "7.75",
         "0",
         "0",
         "Q"
        ],
        [
         "33",
         "0",
         "2",
         "M",
         "66.0",
         "10.5",
         "0",
         "0",
         "S"
        ],
        [
         "34",
         "0",
         "1",
         "M",
         "28.0",
         "82.1708",
         "1",
         "0",
         "C"
        ],
        [
         "35",
         "0",
         "1",
         "M",
         "42.0",
         "52.0",
         "1",
         "0",
         "S"
        ],
        [
         "36",
         "1",
         "3",
         "M",
         "28.0",
         "7.2292",
         "0",
         "0",
         "C"
        ],
        [
         "37",
         "0",
         "3",
         "M",
         "21.0",
         "8.05",
         "0",
         "0",
         "S"
        ],
        [
         "38",
         "0",
         "3",
         "F",
         "18.0",
         "18.0",
         "2",
         "0",
         "S"
        ],
        [
         "39",
         "1",
         "3",
         "F",
         "14.0",
         "11.2417",
         "1",
         "0",
         "C"
        ],
        [
         "40",
         "0",
         "3",
         "F",
         "40.0",
         "9.475",
         "1",
         "0",
         "S"
        ],
        [
         "41",
         "0",
         "2",
         "F",
         "27.0",
         "21.0",
         "1",
         "0",
         "S"
        ],
        [
         "42",
         "0",
         "3",
         "M",
         "28.0",
         "7.8958",
         "0",
         "0",
         "C"
        ],
        [
         "43",
         "1",
         "2",
         "F",
         "3.0",
         "41.5792",
         "1",
         "2",
         "C"
        ],
        [
         "44",
         "1",
         "3",
         "F",
         "19.0",
         "7.8792",
         "0",
         "0",
         "Q"
        ],
        [
         "45",
         "0",
         "3",
         "M",
         "28.0",
         "8.05",
         "0",
         "0",
         "S"
        ],
        [
         "46",
         "0",
         "3",
         "M",
         "28.0",
         "15.5",
         "1",
         "0",
         "Q"
        ],
        [
         "47",
         "1",
         "3",
         "F",
         "28.0",
         "7.75",
         "0",
         "0",
         "Q"
        ],
        [
         "48",
         "0",
         "3",
         "M",
         "28.0",
         "21.6792",
         "2",
         "0",
         "C"
        ],
        [
         "49",
         "0",
         "3",
         "F",
         "18.0",
         "17.8",
         "1",
         "0",
         "S"
        ]
       ],
       "shape": {
        "columns": 8,
        "rows": 891
       }
      },
      "text/html": [
       "<div>\n",
       "<style scoped>\n",
       "    .dataframe tbody tr th:only-of-type {\n",
       "        vertical-align: middle;\n",
       "    }\n",
       "\n",
       "    .dataframe tbody tr th {\n",
       "        vertical-align: top;\n",
       "    }\n",
       "\n",
       "    .dataframe thead th {\n",
       "        text-align: right;\n",
       "    }\n",
       "</style>\n",
       "<table border=\"1\" class=\"dataframe\">\n",
       "  <thead>\n",
       "    <tr style=\"text-align: right;\">\n",
       "      <th></th>\n",
       "      <th>Survived</th>\n",
       "      <th>Class</th>\n",
       "      <th>Sex</th>\n",
       "      <th>Age</th>\n",
       "      <th>Fare</th>\n",
       "      <th>SiblingsSpouses</th>\n",
       "      <th>ParentsChildren</th>\n",
       "      <th>embarked</th>\n",
       "    </tr>\n",
       "  </thead>\n",
       "  <tbody>\n",
       "    <tr>\n",
       "      <th>0</th>\n",
       "      <td>0</td>\n",
       "      <td>3</td>\n",
       "      <td>M</td>\n",
       "      <td>22.0</td>\n",
       "      <td>7.2500</td>\n",
       "      <td>1</td>\n",
       "      <td>0</td>\n",
       "      <td>S</td>\n",
       "    </tr>\n",
       "    <tr>\n",
       "      <th>1</th>\n",
       "      <td>1</td>\n",
       "      <td>1</td>\n",
       "      <td>F</td>\n",
       "      <td>38.0</td>\n",
       "      <td>71.2833</td>\n",
       "      <td>1</td>\n",
       "      <td>0</td>\n",
       "      <td>C</td>\n",
       "    </tr>\n",
       "    <tr>\n",
       "      <th>2</th>\n",
       "      <td>1</td>\n",
       "      <td>3</td>\n",
       "      <td>F</td>\n",
       "      <td>26.0</td>\n",
       "      <td>7.9250</td>\n",
       "      <td>0</td>\n",
       "      <td>0</td>\n",
       "      <td>S</td>\n",
       "    </tr>\n",
       "    <tr>\n",
       "      <th>3</th>\n",
       "      <td>1</td>\n",
       "      <td>1</td>\n",
       "      <td>F</td>\n",
       "      <td>35.0</td>\n",
       "      <td>53.1000</td>\n",
       "      <td>1</td>\n",
       "      <td>0</td>\n",
       "      <td>S</td>\n",
       "    </tr>\n",
       "    <tr>\n",
       "      <th>4</th>\n",
       "      <td>0</td>\n",
       "      <td>3</td>\n",
       "      <td>M</td>\n",
       "      <td>35.0</td>\n",
       "      <td>8.0500</td>\n",
       "      <td>0</td>\n",
       "      <td>0</td>\n",
       "      <td>S</td>\n",
       "    </tr>\n",
       "    <tr>\n",
       "      <th>...</th>\n",
       "      <td>...</td>\n",
       "      <td>...</td>\n",
       "      <td>...</td>\n",
       "      <td>...</td>\n",
       "      <td>...</td>\n",
       "      <td>...</td>\n",
       "      <td>...</td>\n",
       "      <td>...</td>\n",
       "    </tr>\n",
       "    <tr>\n",
       "      <th>886</th>\n",
       "      <td>0</td>\n",
       "      <td>2</td>\n",
       "      <td>M</td>\n",
       "      <td>27.0</td>\n",
       "      <td>13.0000</td>\n",
       "      <td>0</td>\n",
       "      <td>0</td>\n",
       "      <td>S</td>\n",
       "    </tr>\n",
       "    <tr>\n",
       "      <th>887</th>\n",
       "      <td>1</td>\n",
       "      <td>1</td>\n",
       "      <td>F</td>\n",
       "      <td>19.0</td>\n",
       "      <td>30.0000</td>\n",
       "      <td>0</td>\n",
       "      <td>0</td>\n",
       "      <td>S</td>\n",
       "    </tr>\n",
       "    <tr>\n",
       "      <th>888</th>\n",
       "      <td>0</td>\n",
       "      <td>3</td>\n",
       "      <td>F</td>\n",
       "      <td>28.0</td>\n",
       "      <td>23.4500</td>\n",
       "      <td>1</td>\n",
       "      <td>2</td>\n",
       "      <td>S</td>\n",
       "    </tr>\n",
       "    <tr>\n",
       "      <th>889</th>\n",
       "      <td>1</td>\n",
       "      <td>1</td>\n",
       "      <td>M</td>\n",
       "      <td>26.0</td>\n",
       "      <td>30.0000</td>\n",
       "      <td>0</td>\n",
       "      <td>0</td>\n",
       "      <td>C</td>\n",
       "    </tr>\n",
       "    <tr>\n",
       "      <th>890</th>\n",
       "      <td>0</td>\n",
       "      <td>3</td>\n",
       "      <td>M</td>\n",
       "      <td>32.0</td>\n",
       "      <td>7.7500</td>\n",
       "      <td>0</td>\n",
       "      <td>0</td>\n",
       "      <td>Q</td>\n",
       "    </tr>\n",
       "  </tbody>\n",
       "</table>\n",
       "<p>891 rows × 8 columns</p>\n",
       "</div>"
      ],
      "text/plain": [
       "     Survived  Class Sex   Age     Fare  SiblingsSpouses  ParentsChildren  \\\n",
       "0           0      3   M  22.0   7.2500                1                0   \n",
       "1           1      1   F  38.0  71.2833                1                0   \n",
       "2           1      3   F  26.0   7.9250                0                0   \n",
       "3           1      1   F  35.0  53.1000                1                0   \n",
       "4           0      3   M  35.0   8.0500                0                0   \n",
       "..        ...    ...  ..   ...      ...              ...              ...   \n",
       "886         0      2   M  27.0  13.0000                0                0   \n",
       "887         1      1   F  19.0  30.0000                0                0   \n",
       "888         0      3   F  28.0  23.4500                1                2   \n",
       "889         1      1   M  26.0  30.0000                0                0   \n",
       "890         0      3   M  32.0   7.7500                0                0   \n",
       "\n",
       "    embarked  \n",
       "0          S  \n",
       "1          C  \n",
       "2          S  \n",
       "3          S  \n",
       "4          S  \n",
       "..       ...  \n",
       "886        S  \n",
       "887        S  \n",
       "888        S  \n",
       "889        C  \n",
       "890        Q  \n",
       "\n",
       "[891 rows x 8 columns]"
      ]
     },
     "execution_count": 16,
     "metadata": {},
     "output_type": "execute_result"
    }
   ],
   "source": [
    "titanic_df_num = titanic_df\n",
    "titanic_df_num"
   ]
  },
  {
   "cell_type": "code",
   "execution_count": 17,
   "id": "bab1a72d",
   "metadata": {},
   "outputs": [
    {
     "name": "stderr",
     "output_type": "stream",
     "text": [
      "C:\\Users\\turki\\AppData\\Local\\Temp\\ipykernel_30860\\3727660918.py:3: FutureWarning: Downcasting behavior in `replace` is deprecated and will be removed in a future version. To retain the old behavior, explicitly call `result.infer_objects(copy=False)`. To opt-in to the future behavior, set `pd.set_option('future.no_silent_downcasting', True)`\n",
      "  titanic_df_num['Sex'] = titanic_df_num['Sex'].replace({'M' : 0, 'F' : 1})\n",
      "C:\\Users\\turki\\AppData\\Local\\Temp\\ipykernel_30860\\3727660918.py:4: FutureWarning: Downcasting behavior in `replace` is deprecated and will be removed in a future version. To retain the old behavior, explicitly call `result.infer_objects(copy=False)`. To opt-in to the future behavior, set `pd.set_option('future.no_silent_downcasting', True)`\n",
      "  titanic_df_num['embarked'] = titanic_df_num['embarked'].replace({'S' : 0, 'Q' : 1, 'Q' : 2, 'C' : 3})\n"
     ]
    },
    {
     "data": {
      "image/png": "[encoded data removed]",
      "text/plain": [
       "<Figure size 640x480 with 2 Axes>"
      ]
     },
     "metadata": {},
     "output_type": "display_data"
    }
   ],
   "source": [
    "#Correlation matrix\n",
    "\n",
    "titanic_df_num['Sex'] = titanic_df_num['Sex'].replace({'M' : 0, 'F' : 1})\n",
    "titanic_df_num['embarked'] = titanic_df_num['embarked'].replace({'S' : 0, 'Q' : 1, 'Q' : 2, 'C' : 3})\n",
    "corr_matrix = titanic_df_num.corr()\n",
    "\n",
    "\n",
    "sns.heatmap(corr_matrix, annot=True, cmap='coolwarm', fmt=\".2f\", linewidths=0.5)\n",
    "plt.title(\"Correlation Matrix\")\n",
    "plt.show()"
   ]
  },
  {
   "cell_type": "markdown",
   "id": "26368193",
   "metadata": {},
   "source": [
    "<h3>b) Pairwise Plots"
   ]
  },
  {
   "cell_type": "code",
   "execution_count": 18,
   "id": "ef37e4e2",
   "metadata": {},
   "outputs": [
    {
     "data": {
      "text/plain": [
       "<seaborn.axisgrid.PairGrid at 0x18256937880>"
      ]
     },
     "execution_count": 18,
     "metadata": {},
     "output_type": "execute_result"
    },
    {
     "data": {
      "image/png": "[encoded data removed]",
      "text/plain": [
       "<Figure size 2000x2000 with 72 Axes>"
      ]
     },
     "metadata": {},
     "output_type": "display_data"
    }
   ],
   "source": [
    "sns.pairplot(titanic_df_num)"
   ]
  },
  {
   "cell_type": "markdown",
   "id": "55096459",
   "metadata": {},
   "source": [
    "<h3>c) PCA"
   ]
  },
  {
   "cell_type": "code",
   "execution_count": 65,
   "id": "a2d6f61e",
   "metadata": {},
   "outputs": [],
   "source": [
    "from sklearn.decomposition import PCA\n",
    "\n",
    "pca = PCA(n_components=3)\n",
    "components = pca.fit(titanic_df_num).transform(titanic_df)\n"
   ]
  },
  {
   "cell_type": "code",
   "execution_count": 66,
   "id": "2db4e9c3",
   "metadata": {},
   "outputs": [
    {
     "data": {
      "text/plain": [
       "Index(['Survived', 'Class', 'Sex', 'Age', 'Fare', 'SiblingsSpouses',\n",
       "       'ParentsChildren', 'embarked'],\n",
       "      dtype='object')"
      ]
     },
     "execution_count": 66,
     "metadata": {},
     "output_type": "execute_result"
    }
   ],
   "source": [
    "titanic_df_num.columns"
   ]
  },
  {
   "cell_type": "code",
   "execution_count": 67,
   "id": "efd65faa",
   "metadata": {},
   "outputs": [
    {
     "name": "stdout",
     "output_type": "stream",
     "text": [
      "[[ 2.51271152e-03 -9.27686401e-03  1.74699411e-03  2.77349491e-02\n",
      "   9.99542673e-01  3.50445303e-03  3.48459170e-03  5.03656543e-03]\n",
      " [-3.34909754e-03 -1.75980572e-02 -3.48401850e-03  9.99182067e-01\n",
      "  -2.77597327e-02 -1.99320153e-02 -1.15620556e-02 -7.62307129e-04]\n",
      " [ 6.54976093e-02 -7.45066496e-02  1.08151706e-02 -1.24158766e-02\n",
      "  -2.37184687e-03 -4.63942708e-01 -2.32275294e-01  8.48933111e-01]]\n"
     ]
    }
   ],
   "source": [
    "r = pca.components_\n",
    "\n",
    "print(r)"
   ]
  },
  {
   "cell_type": "code",
   "execution_count": 68,
   "id": "b0bdaa55",
   "metadata": {},
   "outputs": [
    {
     "data": {
      "text/plain": [
       "array([9.33461364e-01, 6.50195266e-02, 5.83623157e-04])"
      ]
     },
     "execution_count": 68,
     "metadata": {},
     "output_type": "execute_result"
    }
   ],
   "source": [
    "explained_variance = pca.explained_variance_ratio_\n",
    "explained_variance"
   ]
  },
  {
   "cell_type": "markdown",
   "id": "2480cbd3",
   "metadata": {},
   "source": [
    "PCA 1 is corresponding to Flare and holds 93% of the variance\n",
    "\n",
    "PCA 2 is corresponding to Age and holds 6.5% of the variance\n",
    "\n",
    "PCA 3 is corresponding to embarked and holds 0.0005% of the variance"
   ]
  },
  {
   "cell_type": "markdown",
   "id": "64d5729b",
   "metadata": {},
   "source": [
    "<h2>IV) Features linked to Survival </h2>"
   ]
  },
  {
   "cell_type": "markdown",
   "id": "64f15f99",
   "metadata": {},
   "source": [
    "<h3>a) Mutual information"
   ]
  },
  {
   "cell_type": "code",
   "execution_count": 78,
   "id": "27ddbb36",
   "metadata": {},
   "outputs": [
    {
     "data": {
      "application/vnd.microsoft.datawrangler.viewer.v0+json": {
       "columns": [
        {
         "name": "index",
         "rawType": "int64",
         "type": "integer"
        },
        {
         "name": "Class",
         "rawType": "int64",
         "type": "integer"
        },
        {
         "name": "Sex",
         "rawType": "int64",
         "type": "integer"
        },
        {
         "name": "Age",
         "rawType": "float64",
         "type": "float"
        },
        {
         "name": "Fare",
         "rawType": "float64",
         "type": "float"
        },
        {
         "name": "SiblingsSpouses",
         "rawType": "int64",
         "type": "integer"
        },
        {
         "name": "ParentsChildren",
         "rawType": "int64",
         "type": "integer"
        },
        {
         "name": "embarked",
         "rawType": "int64",
         "type": "integer"
        }
       ],
       "ref": "6e4cbb23-7b2c-4444-8fa4-85eb79f4e6b4",
       "rows": [
        [
         "0",
         "3",
         "0",
         "22.0",
         "7.25",
         "1",
         "0",
         "0"
        ],
        [
         "1",
         "1",
         "1",
         "38.0",
         "71.2833",
         "1",
         "0",
         "3"
        ],
        [
         "2",
         "3",
         "1",
         "26.0",
         "7.925",
         "0",
         "0",
         "0"
        ],
        [
         "3",
         "1",
         "1",
         "35.0",
         "53.1",
         "1",
         "0",
         "0"
        ],
        [
         "4",
         "3",
         "0",
         "35.0",
         "8.05",
         "0",
         "0",
         "0"
        ],
        [
         "5",
         "3",
         "0",
         "28.0",
         "8.4583",
         "0",
         "0",
         "2"
        ],
        [
         "6",
         "1",
         "0",
         "54.0",
         "51.8625",
         "0",
         "0",
         "0"
        ],
        [
         "7",
         "3",
         "0",
         "2.0",
         "21.075",
         "3",
         "1",
         "0"
        ],
        [
         "8",
         "3",
         "1",
         "27.0",
         "11.1333",
         "0",
         "2",
         "0"
        ],
        [
         "9",
         "2",
         "1",
         "14.0",
         "30.0708",
         "1",
         "0",
         "3"
        ],
        [
         "10",
         "3",
         "1",
         "4.0",
         "16.7",
         "1",
         "1",
         "0"
        ],
        [
         "11",
         "1",
         "1",
         "58.0",
         "26.55",
         "0",
         "0",
         "0"
        ],
        [
         "12",
         "3",
         "0",
         "20.0",
         "8.05",
         "0",
         "0",
         "0"
        ],
        [
         "13",
         "3",
         "0",
         "39.0",
         "31.275",
         "1",
         "5",
         "0"
        ],
        [
         "14",
         "3",
         "1",
         "14.0",
         "7.8542",
         "0",
         "0",
         "0"
        ],
        [
         "15",
         "2",
         "1",
         "55.0",
         "16.0",
         "0",
         "0",
         "0"
        ],
        [
         "16",
         "3",
         "0",
         "2.0",
         "29.125",
         "4",
         "1",
         "2"
        ],
        [
         "17",
         "2",
         "0",
         "28.0",
         "13.0",
         "0",
         "0",
         "0"
        ],
        [
         "18",
         "3",
         "1",
         "31.0",
         "18.0",
         "1",
         "0",
         "0"
        ],
        [
         "19",
         "3",
         "1",
         "28.0",
         "7.225",
         "0",
         "0",
         "3"
        ],
        [
         "20",
         "2",
         "0",
         "35.0",
         "26.0",
         "0",
         "0",
         "0"
        ],
        [
         "21",
         "2",
         "0",
         "34.0",
         "13.0",
         "0",
         "0",
         "0"
        ],
        [
         "22",
         "3",
         "1",
         "15.0",
         "8.0292",
         "0",
         "0",
         "2"
        ],
        [
         "23",
         "1",
         "0",
         "28.0",
         "35.5",
         "0",
         "0",
         "0"
        ],
        [
         "24",
         "3",
         "1",
         "8.0",
         "21.075",
         "3",
         "1",
         "0"
        ],
        [
         "25",
         "3",
         "1",
         "38.0",
         "31.3875",
         "1",
         "5",
         "0"
        ],
        [
         "26",
         "3",
         "0",
         "28.0",
         "7.225",
         "0",
         "0",
         "3"
        ],
        [
         "27",
         "1",
         "0",
         "19.0",
         "263.0",
         "3",
         "2",
         "0"
        ],
        [
         "28",
         "3",
         "1",
         "28.0",
         "7.8792",
         "0",
         "0",
         "2"
        ],
        [
         "29",
         "3",
         "0",
         "28.0",
         "7.8958",
         "0",
         "0",
         "0"
        ],
        [
         "30",
         "1",
         "0",
         "40.0",
         "27.7208",
         "0",
         "0",
         "3"
        ],
        [
         "31",
         "1",
         "1",
         "28.0",
         "146.5208",
         "1",
         "0",
         "3"
        ],
        [
         "32",
         "3",
         "1",
         "28.0",
         "7.75",
         "0",
         "0",
         "2"
        ],
        [
         "33",
         "2",
         "0",
         "66.0",
         "10.5",
         "0",
         "0",
         "0"
        ],
        [
         "34",
         "1",
         "0",
         "28.0",
         "82.1708",
         "1",
         "0",
         "3"
        ],
        [
         "35",
         "1",
         "0",
         "42.0",
         "52.0",
         "1",
         "0",
         "0"
        ],
        [
         "36",
         "3",
         "0",
         "28.0",
         "7.2292",
         "0",
         "0",
         "3"
        ],
        [
         "37",
         "3",
         "0",
         "21.0",
         "8.05",
         "0",
         "0",
         "0"
        ],
        [
         "38",
         "3",
         "1",
         "18.0",
         "18.0",
         "2",
         "0",
         "0"
        ],
        [
         "39",
         "3",
         "1",
         "14.0",
         "11.2417",
         "1",
         "0",
         "3"
        ],
        [
         "40",
         "3",
         "1",
         "40.0",
         "9.475",
         "1",
         "0",
         "0"
        ],
        [
         "41",
         "2",
         "1",
         "27.0",
         "21.0",
         "1",
         "0",
         "0"
        ],
        [
         "42",
         "3",
         "0",
         "28.0",
         "7.8958",
         "0",
         "0",
         "3"
        ],
        [
         "43",
         "2",
         "1",
         "3.0",
         "41.5792",
         "1",
         "2",
         "3"
        ],
        [
         "44",
         "3",
         "1",
         "19.0",
         "7.8792",
         "0",
         "0",
         "2"
        ],
        [
         "45",
         "3",
         "0",
         "28.0",
         "8.05",
         "0",
         "0",
         "0"
        ],
        [
         "46",
         "3",
         "0",
         "28.0",
         "15.5",
         "1",
         "0",
         "2"
        ],
        [
         "47",
         "3",
         "1",
         "28.0",
         "7.75",
         "0",
         "0",
         "2"
        ],
        [
         "48",
         "3",
         "0",
         "28.0",
         "21.6792",
         "2",
         "0",
         "3"
        ],
        [
         "49",
         "3",
         "1",
         "18.0",
         "17.8",
         "1",
         "0",
         "0"
        ]
       ],
       "shape": {
        "columns": 7,
        "rows": 891
       }
      },
      "text/html": [
       "<div>\n",
       "<style scoped>\n",
       "    .dataframe tbody tr th:only-of-type {\n",
       "        vertical-align: middle;\n",
       "    }\n",
       "\n",
       "    .dataframe tbody tr th {\n",
       "        vertical-align: top;\n",
       "    }\n",
       "\n",
       "    .dataframe thead th {\n",
       "        text-align: right;\n",
       "    }\n",
       "</style>\n",
       "<table border=\"1\" class=\"dataframe\">\n",
       "  <thead>\n",
       "    <tr style=\"text-align: right;\">\n",
       "      <th></th>\n",
       "      <th>Class</th>\n",
       "      <th>Sex</th>\n",
       "      <th>Age</th>\n",
       "      <th>Fare</th>\n",
       "      <th>SiblingsSpouses</th>\n",
       "      <th>ParentsChildren</th>\n",
       "      <th>embarked</th>\n",
       "    </tr>\n",
       "  </thead>\n",
       "  <tbody>\n",
       "    <tr>\n",
       "      <th>0</th>\n",
       "      <td>3</td>\n",
       "      <td>0</td>\n",
       "      <td>22.0</td>\n",
       "      <td>7.2500</td>\n",
       "      <td>1</td>\n",
       "      <td>0</td>\n",
       "      <td>0</td>\n",
       "    </tr>\n",
       "    <tr>\n",
       "      <th>1</th>\n",
       "      <td>1</td>\n",
       "      <td>1</td>\n",
       "      <td>38.0</td>\n",
       "      <td>71.2833</td>\n",
       "      <td>1</td>\n",
       "      <td>0</td>\n",
       "      <td>3</td>\n",
       "    </tr>\n",
       "    <tr>\n",
       "      <th>2</th>\n",
       "      <td>3</td>\n",
       "      <td>1</td>\n",
       "      <td>26.0</td>\n",
       "      <td>7.9250</td>\n",
       "      <td>0</td>\n",
       "      <td>0</td>\n",
       "      <td>0</td>\n",
       "    </tr>\n",
       "    <tr>\n",
       "      <th>3</th>\n",
       "      <td>1</td>\n",
       "      <td>1</td>\n",
       "      <td>35.0</td>\n",
       "      <td>53.1000</td>\n",
       "      <td>1</td>\n",
       "      <td>0</td>\n",
       "      <td>0</td>\n",
       "    </tr>\n",
       "    <tr>\n",
       "      <th>4</th>\n",
       "      <td>3</td>\n",
       "      <td>0</td>\n",
       "      <td>35.0</td>\n",
       "      <td>8.0500</td>\n",
       "      <td>0</td>\n",
       "      <td>0</td>\n",
       "      <td>0</td>\n",
       "    </tr>\n",
       "    <tr>\n",
       "      <th>...</th>\n",
       "      <td>...</td>\n",
       "      <td>...</td>\n",
       "      <td>...</td>\n",
       "      <td>...</td>\n",
       "      <td>...</td>\n",
       "      <td>...</td>\n",
       "      <td>...</td>\n",
       "    </tr>\n",
       "    <tr>\n",
       "      <th>886</th>\n",
       "      <td>2</td>\n",
       "      <td>0</td>\n",
       "      <td>27.0</td>\n",
       "      <td>13.0000</td>\n",
       "      <td>0</td>\n",
       "      <td>0</td>\n",
       "      <td>0</td>\n",
       "    </tr>\n",
       "    <tr>\n",
       "      <th>887</th>\n",
       "      <td>1</td>\n",
       "      <td>1</td>\n",
       "      <td>19.0</td>\n",
       "      <td>30.0000</td>\n",
       "      <td>0</td>\n",
       "      <td>0</td>\n",
       "      <td>0</td>\n",
       "    </tr>\n",
       "    <tr>\n",
       "      <th>888</th>\n",
       "      <td>3</td>\n",
       "      <td>1</td>\n",
       "      <td>28.0</td>\n",
       "      <td>23.4500</td>\n",
       "      <td>1</td>\n",
       "      <td>2</td>\n",
       "      <td>0</td>\n",
       "    </tr>\n",
       "    <tr>\n",
       "      <th>889</th>\n",
       "      <td>1</td>\n",
       "      <td>0</td>\n",
       "      <td>26.0</td>\n",
       "      <td>30.0000</td>\n",
       "      <td>0</td>\n",
       "      <td>0</td>\n",
       "      <td>3</td>\n",
       "    </tr>\n",
       "    <tr>\n",
       "      <th>890</th>\n",
       "      <td>3</td>\n",
       "      <td>0</td>\n",
       "      <td>32.0</td>\n",
       "      <td>7.7500</td>\n",
       "      <td>0</td>\n",
       "      <td>0</td>\n",
       "      <td>2</td>\n",
       "    </tr>\n",
       "  </tbody>\n",
       "</table>\n",
       "<p>891 rows × 7 columns</p>\n",
       "</div>"
      ],
      "text/plain": [
       "     Class  Sex   Age     Fare  SiblingsSpouses  ParentsChildren  embarked\n",
       "0        3    0  22.0   7.2500                1                0         0\n",
       "1        1    1  38.0  71.2833                1                0         3\n",
       "2        3    1  26.0   7.9250                0                0         0\n",
       "3        1    1  35.0  53.1000                1                0         0\n",
       "4        3    0  35.0   8.0500                0                0         0\n",
       "..     ...  ...   ...      ...              ...              ...       ...\n",
       "886      2    0  27.0  13.0000                0                0         0\n",
       "887      1    1  19.0  30.0000                0                0         0\n",
       "888      3    1  28.0  23.4500                1                2         0\n",
       "889      1    0  26.0  30.0000                0                0         3\n",
       "890      3    0  32.0   7.7500                0                0         2\n",
       "\n",
       "[891 rows x 7 columns]"
      ]
     },
     "execution_count": 78,
     "metadata": {},
     "output_type": "execute_result"
    }
   ],
   "source": [
    "target_feature = titanic_df_num[['Survived']]  \n",
    "X = titanic_df_num.drop(columns={'Survived'})\n",
    "X"
   ]
  },
  {
   "cell_type": "code",
   "execution_count": 79,
   "id": "be666974",
   "metadata": {},
   "outputs": [
    {
     "name": "stderr",
     "output_type": "stream",
     "text": [
      "c:\\Users\\turki\\miniconda3\\envs\\dse_511_titanic\\lib\\site-packages\\sklearn\\utils\\validation.py:1406: DataConversionWarning: A column-vector y was passed when a 1d array was expected. Please change the shape of y to (n_samples, ), for example using ravel().\n",
      "  y = column_or_1d(y, warn=True)\n"
     ]
    },
    {
     "data": {
      "text/plain": [
       "array([0.06423172, 0.1658248 , 0.01946528, 0.13518397, 0.02591097,\n",
       "       0.03672158, 0.        ])"
      ]
     },
     "execution_count": 79,
     "metadata": {},
     "output_type": "execute_result"
    }
   ],
   "source": [
    "from sklearn.feature_selection import mutual_info_classif\n",
    "\n",
    "mi = mutual_info_classif(X, target_feature)\n",
    "mi"
   ]
  },
  {
   "cell_type": "markdown",
   "id": "b3d1fed2",
   "metadata": {},
   "source": [
    "<h3>b) Tree based importance feature"
   ]
  },
  {
   "cell_type": "code",
   "execution_count": 81,
   "id": "244aa35f",
   "metadata": {},
   "outputs": [
    {
     "name": "stderr",
     "output_type": "stream",
     "text": [
      "c:\\Users\\turki\\miniconda3\\envs\\dse_511_titanic\\lib\\site-packages\\sklearn\\base.py:1365: DataConversionWarning: A column-vector y was passed when a 1d array was expected. Please change the shape of y to (n_samples,), for example using ravel().\n",
      "  return fit_method(estimator, *args, **kwargs)\n"
     ]
    },
    {
     "data": {
      "text/plain": [
       "array([0.08292245, 0.25883338, 0.26178664, 0.2754741 , 0.04970601,\n",
       "       0.03982367, 0.03145375])"
      ]
     },
     "execution_count": 81,
     "metadata": {},
     "output_type": "execute_result"
    }
   ],
   "source": [
    "from sklearn.ensemble import RandomForestClassifier\n",
    "\n",
    "rf = RandomForestClassifier().fit(X, target_feature)\n",
    "importances = rf.feature_importances_\n",
    "\n",
    "importances"
   ]
  },
  {
   "cell_type": "markdown",
   "id": "b07cc13b",
   "metadata": {},
   "source": [
    "<h3>c) Plot"
   ]
  },
  {
   "cell_type": "code",
   "execution_count": 99,
   "id": "f1988f6b",
   "metadata": {},
   "outputs": [
    {
     "data": {
      "application/vnd.microsoft.datawrangler.viewer.v0+json": {
       "columns": [
        {
         "name": "Features",
         "rawType": "object",
         "type": "string"
        },
        {
         "name": "Mutual Information",
         "rawType": "float64",
         "type": "float"
        },
        {
         "name": "RF Importance",
         "rawType": "float64",
         "type": "float"
        }
       ],
       "ref": "649a9bc8-5c19-4759-90d5-9067e80ba2f0",
       "rows": [
        [
         "Class",
         "0.06423172",
         "0.08292244909823059"
        ],
        [
         "Sex",
         "0.1658248",
         "0.258833375163961"
        ],
        [
         "Age",
         "0.01946528",
         "0.26178664458425926"
        ],
        [
         "Fare",
         "0.13518397",
         "0.27547410160436225"
        ],
        [
         "SiblingsSpouses",
         "0.02591097",
         "0.0497060082112484"
        ],
        [
         "ParentsChildren",
         "0.03672158",
         "0.039823666632718815"
        ],
        [
         "embarked",
         "0.0",
         "0.0314537547052197"
        ]
       ],
       "shape": {
        "columns": 2,
        "rows": 7
       }
      },
      "text/html": [
       "<div>\n",
       "<style scoped>\n",
       "    .dataframe tbody tr th:only-of-type {\n",
       "        vertical-align: middle;\n",
       "    }\n",
       "\n",
       "    .dataframe tbody tr th {\n",
       "        vertical-align: top;\n",
       "    }\n",
       "\n",
       "    .dataframe thead th {\n",
       "        text-align: right;\n",
       "    }\n",
       "</style>\n",
       "<table border=\"1\" class=\"dataframe\">\n",
       "  <thead>\n",
       "    <tr style=\"text-align: right;\">\n",
       "      <th></th>\n",
       "      <th>Mutual Information</th>\n",
       "      <th>RF Importance</th>\n",
       "    </tr>\n",
       "    <tr>\n",
       "      <th>Features</th>\n",
       "      <th></th>\n",
       "      <th></th>\n",
       "    </tr>\n",
       "  </thead>\n",
       "  <tbody>\n",
       "    <tr>\n",
       "      <th>Class</th>\n",
       "      <td>0.064232</td>\n",
       "      <td>0.082922</td>\n",
       "    </tr>\n",
       "    <tr>\n",
       "      <th>Sex</th>\n",
       "      <td>0.165825</td>\n",
       "      <td>0.258833</td>\n",
       "    </tr>\n",
       "    <tr>\n",
       "      <th>Age</th>\n",
       "      <td>0.019465</td>\n",
       "      <td>0.261787</td>\n",
       "    </tr>\n",
       "    <tr>\n",
       "      <th>Fare</th>\n",
       "      <td>0.135184</td>\n",
       "      <td>0.275474</td>\n",
       "    </tr>\n",
       "    <tr>\n",
       "      <th>SiblingsSpouses</th>\n",
       "      <td>0.025911</td>\n",
       "      <td>0.049706</td>\n",
       "    </tr>\n",
       "    <tr>\n",
       "      <th>ParentsChildren</th>\n",
       "      <td>0.036722</td>\n",
       "      <td>0.039824</td>\n",
       "    </tr>\n",
       "    <tr>\n",
       "      <th>embarked</th>\n",
       "      <td>0.000000</td>\n",
       "      <td>0.031454</td>\n",
       "    </tr>\n",
       "  </tbody>\n",
       "</table>\n",
       "</div>"
      ],
      "text/plain": [
       "                 Mutual Information  RF Importance\n",
       "Features                                          \n",
       "Class                      0.064232       0.082922\n",
       "Sex                        0.165825       0.258833\n",
       "Age                        0.019465       0.261787\n",
       "Fare                       0.135184       0.275474\n",
       "SiblingsSpouses            0.025911       0.049706\n",
       "ParentsChildren            0.036722       0.039824\n",
       "embarked                   0.000000       0.031454"
      ]
     },
     "execution_count": 99,
     "metadata": {},
     "output_type": "execute_result"
    }
   ],
   "source": [
    "feature_name = X.columns.to_list()\n",
    "\n",
    "feature_importances = pd.DataFrame({\n",
    "    'Features' : feature_name, \n",
    "    'Mutual Information' : mi, \n",
    "    'RF Importance' : importances\n",
    "})\n",
    "\n",
    "feature_importances = feature_importances.set_index('Features')\n",
    "feature_importances"
   ]
  },
  {
   "cell_type": "code",
   "execution_count": 100,
   "id": "2f50aef7",
   "metadata": {},
   "outputs": [
    {
     "data": {
      "text/plain": [
       "<Axes: xlabel='Features'>"
      ]
     },
     "execution_count": 100,
     "metadata": {},
     "output_type": "execute_result"
    },
    {
     "data": {
      "image/png": "[encoded data removed]",
      "text/plain": [
       "<Figure size 640x480 with 1 Axes>"
      ]
     },
     "metadata": {},
     "output_type": "display_data"
    }
   ],
   "source": [
    "feature_importances.plot(kind='bar')"
   ]
  }
 ],
 "metadata": {
  "kernelspec": {
   "display_name": "dse_511_titanic",
   "language": "python",
   "name": "python3"
  },
  "language_info": {
   "codemirror_mode": {
    "name": "ipython",
    "version": 3
   },
   "file_extension": ".py",
   "mimetype": "text/x-python",
   "name": "python",
   "nbconvert_exporter": "python",
   "pygments_lexer": "ipython3",
   "version": "3.10.18"
  }
 },
 "nbformat": 4,
 "nbformat_minor": 5
}
